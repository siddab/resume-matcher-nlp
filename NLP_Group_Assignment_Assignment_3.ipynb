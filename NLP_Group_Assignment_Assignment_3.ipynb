{
  "nbformat": 4,
  "nbformat_minor": 0,
  "metadata": {
    "colab": {
      "provenance": []
    },
    "kernelspec": {
      "name": "python3",
      "display_name": "Python 3"
    },
    "language_info": {
      "name": "python"
    },
    "widgets": {
      "application/vnd.jupyter.widget-state+json": {
        "15812d63a49d4adc9471ec5a7597676f": {
          "model_module": "@jupyter-widgets/controls",
          "model_name": "HBoxModel",
          "model_module_version": "1.5.0",
          "state": {
            "_dom_classes": [],
            "_model_module": "@jupyter-widgets/controls",
            "_model_module_version": "1.5.0",
            "_model_name": "HBoxModel",
            "_view_count": null,
            "_view_module": "@jupyter-widgets/controls",
            "_view_module_version": "1.5.0",
            "_view_name": "HBoxView",
            "box_style": "",
            "children": [
              "IPY_MODEL_e571f93c32a44d0998d62ffa28064d49",
              "IPY_MODEL_9ef0dbe516c54ce8984838c9fa6a7507",
              "IPY_MODEL_6cea4e0cb8614309a9f61bb9b2fd86e9"
            ],
            "layout": "IPY_MODEL_0d700a1f7453412db63ce1db4c66cdd4"
          }
        },
        "e571f93c32a44d0998d62ffa28064d49": {
          "model_module": "@jupyter-widgets/controls",
          "model_name": "HTMLModel",
          "model_module_version": "1.5.0",
          "state": {
            "_dom_classes": [],
            "_model_module": "@jupyter-widgets/controls",
            "_model_module_version": "1.5.0",
            "_model_name": "HTMLModel",
            "_view_count": null,
            "_view_module": "@jupyter-widgets/controls",
            "_view_module_version": "1.5.0",
            "_view_name": "HTMLView",
            "description": "",
            "description_tooltip": null,
            "layout": "IPY_MODEL_b2c84fc124ef483982ef8479478444a0",
            "placeholder": "​",
            "style": "IPY_MODEL_42d1716be4ed46c99e0f73871ce69fb9",
            "value": "Batches: 100%"
          }
        },
        "9ef0dbe516c54ce8984838c9fa6a7507": {
          "model_module": "@jupyter-widgets/controls",
          "model_name": "FloatProgressModel",
          "model_module_version": "1.5.0",
          "state": {
            "_dom_classes": [],
            "_model_module": "@jupyter-widgets/controls",
            "_model_module_version": "1.5.0",
            "_model_name": "FloatProgressModel",
            "_view_count": null,
            "_view_module": "@jupyter-widgets/controls",
            "_view_module_version": "1.5.0",
            "_view_name": "ProgressView",
            "bar_style": "success",
            "description": "",
            "description_tooltip": null,
            "layout": "IPY_MODEL_bbe914c33dc5442988c113f829ba7ed8",
            "max": 1,
            "min": 0,
            "orientation": "horizontal",
            "style": "IPY_MODEL_582a0dcbbb87467e8da06bfe4c8ebf11",
            "value": 1
          }
        },
        "6cea4e0cb8614309a9f61bb9b2fd86e9": {
          "model_module": "@jupyter-widgets/controls",
          "model_name": "HTMLModel",
          "model_module_version": "1.5.0",
          "state": {
            "_dom_classes": [],
            "_model_module": "@jupyter-widgets/controls",
            "_model_module_version": "1.5.0",
            "_model_name": "HTMLModel",
            "_view_count": null,
            "_view_module": "@jupyter-widgets/controls",
            "_view_module_version": "1.5.0",
            "_view_name": "HTMLView",
            "description": "",
            "description_tooltip": null,
            "layout": "IPY_MODEL_6c15306fde9c437cb194d494f94aee58",
            "placeholder": "​",
            "style": "IPY_MODEL_177d04a1874b48bbb57d2d9a6b6364ac",
            "value": " 1/1 [00:02&lt;00:00,  2.84s/it]"
          }
        },
        "0d700a1f7453412db63ce1db4c66cdd4": {
          "model_module": "@jupyter-widgets/base",
          "model_name": "LayoutModel",
          "model_module_version": "1.2.0",
          "state": {
            "_model_module": "@jupyter-widgets/base",
            "_model_module_version": "1.2.0",
            "_model_name": "LayoutModel",
            "_view_count": null,
            "_view_module": "@jupyter-widgets/base",
            "_view_module_version": "1.2.0",
            "_view_name": "LayoutView",
            "align_content": null,
            "align_items": null,
            "align_self": null,
            "border": null,
            "bottom": null,
            "display": null,
            "flex": null,
            "flex_flow": null,
            "grid_area": null,
            "grid_auto_columns": null,
            "grid_auto_flow": null,
            "grid_auto_rows": null,
            "grid_column": null,
            "grid_gap": null,
            "grid_row": null,
            "grid_template_areas": null,
            "grid_template_columns": null,
            "grid_template_rows": null,
            "height": null,
            "justify_content": null,
            "justify_items": null,
            "left": null,
            "margin": null,
            "max_height": null,
            "max_width": null,
            "min_height": null,
            "min_width": null,
            "object_fit": null,
            "object_position": null,
            "order": null,
            "overflow": null,
            "overflow_x": null,
            "overflow_y": null,
            "padding": null,
            "right": null,
            "top": null,
            "visibility": null,
            "width": null
          }
        },
        "b2c84fc124ef483982ef8479478444a0": {
          "model_module": "@jupyter-widgets/base",
          "model_name": "LayoutModel",
          "model_module_version": "1.2.0",
          "state": {
            "_model_module": "@jupyter-widgets/base",
            "_model_module_version": "1.2.0",
            "_model_name": "LayoutModel",
            "_view_count": null,
            "_view_module": "@jupyter-widgets/base",
            "_view_module_version": "1.2.0",
            "_view_name": "LayoutView",
            "align_content": null,
            "align_items": null,
            "align_self": null,
            "border": null,
            "bottom": null,
            "display": null,
            "flex": null,
            "flex_flow": null,
            "grid_area": null,
            "grid_auto_columns": null,
            "grid_auto_flow": null,
            "grid_auto_rows": null,
            "grid_column": null,
            "grid_gap": null,
            "grid_row": null,
            "grid_template_areas": null,
            "grid_template_columns": null,
            "grid_template_rows": null,
            "height": null,
            "justify_content": null,
            "justify_items": null,
            "left": null,
            "margin": null,
            "max_height": null,
            "max_width": null,
            "min_height": null,
            "min_width": null,
            "object_fit": null,
            "object_position": null,
            "order": null,
            "overflow": null,
            "overflow_x": null,
            "overflow_y": null,
            "padding": null,
            "right": null,
            "top": null,
            "visibility": null,
            "width": null
          }
        },
        "42d1716be4ed46c99e0f73871ce69fb9": {
          "model_module": "@jupyter-widgets/controls",
          "model_name": "DescriptionStyleModel",
          "model_module_version": "1.5.0",
          "state": {
            "_model_module": "@jupyter-widgets/controls",
            "_model_module_version": "1.5.0",
            "_model_name": "DescriptionStyleModel",
            "_view_count": null,
            "_view_module": "@jupyter-widgets/base",
            "_view_module_version": "1.2.0",
            "_view_name": "StyleView",
            "description_width": ""
          }
        },
        "bbe914c33dc5442988c113f829ba7ed8": {
          "model_module": "@jupyter-widgets/base",
          "model_name": "LayoutModel",
          "model_module_version": "1.2.0",
          "state": {
            "_model_module": "@jupyter-widgets/base",
            "_model_module_version": "1.2.0",
            "_model_name": "LayoutModel",
            "_view_count": null,
            "_view_module": "@jupyter-widgets/base",
            "_view_module_version": "1.2.0",
            "_view_name": "LayoutView",
            "align_content": null,
            "align_items": null,
            "align_self": null,
            "border": null,
            "bottom": null,
            "display": null,
            "flex": null,
            "flex_flow": null,
            "grid_area": null,
            "grid_auto_columns": null,
            "grid_auto_flow": null,
            "grid_auto_rows": null,
            "grid_column": null,
            "grid_gap": null,
            "grid_row": null,
            "grid_template_areas": null,
            "grid_template_columns": null,
            "grid_template_rows": null,
            "height": null,
            "justify_content": null,
            "justify_items": null,
            "left": null,
            "margin": null,
            "max_height": null,
            "max_width": null,
            "min_height": null,
            "min_width": null,
            "object_fit": null,
            "object_position": null,
            "order": null,
            "overflow": null,
            "overflow_x": null,
            "overflow_y": null,
            "padding": null,
            "right": null,
            "top": null,
            "visibility": null,
            "width": null
          }
        },
        "582a0dcbbb87467e8da06bfe4c8ebf11": {
          "model_module": "@jupyter-widgets/controls",
          "model_name": "ProgressStyleModel",
          "model_module_version": "1.5.0",
          "state": {
            "_model_module": "@jupyter-widgets/controls",
            "_model_module_version": "1.5.0",
            "_model_name": "ProgressStyleModel",
            "_view_count": null,
            "_view_module": "@jupyter-widgets/base",
            "_view_module_version": "1.2.0",
            "_view_name": "StyleView",
            "bar_color": null,
            "description_width": ""
          }
        },
        "6c15306fde9c437cb194d494f94aee58": {
          "model_module": "@jupyter-widgets/base",
          "model_name": "LayoutModel",
          "model_module_version": "1.2.0",
          "state": {
            "_model_module": "@jupyter-widgets/base",
            "_model_module_version": "1.2.0",
            "_model_name": "LayoutModel",
            "_view_count": null,
            "_view_module": "@jupyter-widgets/base",
            "_view_module_version": "1.2.0",
            "_view_name": "LayoutView",
            "align_content": null,
            "align_items": null,
            "align_self": null,
            "border": null,
            "bottom": null,
            "display": null,
            "flex": null,
            "flex_flow": null,
            "grid_area": null,
            "grid_auto_columns": null,
            "grid_auto_flow": null,
            "grid_auto_rows": null,
            "grid_column": null,
            "grid_gap": null,
            "grid_row": null,
            "grid_template_areas": null,
            "grid_template_columns": null,
            "grid_template_rows": null,
            "height": null,
            "justify_content": null,
            "justify_items": null,
            "left": null,
            "margin": null,
            "max_height": null,
            "max_width": null,
            "min_height": null,
            "min_width": null,
            "object_fit": null,
            "object_position": null,
            "order": null,
            "overflow": null,
            "overflow_x": null,
            "overflow_y": null,
            "padding": null,
            "right": null,
            "top": null,
            "visibility": null,
            "width": null
          }
        },
        "177d04a1874b48bbb57d2d9a6b6364ac": {
          "model_module": "@jupyter-widgets/controls",
          "model_name": "DescriptionStyleModel",
          "model_module_version": "1.5.0",
          "state": {
            "_model_module": "@jupyter-widgets/controls",
            "_model_module_version": "1.5.0",
            "_model_name": "DescriptionStyleModel",
            "_view_count": null,
            "_view_module": "@jupyter-widgets/base",
            "_view_module_version": "1.2.0",
            "_view_name": "StyleView",
            "description_width": ""
          }
        }
      }
    }
  },
  "cells": [
    {
      "cell_type": "code",
      "execution_count": null,
      "metadata": {
        "id": "SVjO-Ka6m6y3",
        "colab": {
          "base_uri": "https://localhost:8080/"
        },
        "outputId": "0686f581-559c-4e8f-a52c-73f36b0e0460"
      },
      "outputs": [
        {
          "output_type": "stream",
          "name": "stdout",
          "text": [
            "Requirement already satisfied: pdfplumber in /usr/local/lib/python3.11/dist-packages (0.11.6)\n",
            "Requirement already satisfied: python-docx in /usr/local/lib/python3.11/dist-packages (1.1.2)\n",
            "Requirement already satisfied: spacy in /usr/local/lib/python3.11/dist-packages (3.8.5)\n",
            "Requirement already satisfied: pdfminer.six==20250327 in /usr/local/lib/python3.11/dist-packages (from pdfplumber) (20250327)\n",
            "Requirement already satisfied: Pillow>=9.1 in /usr/local/lib/python3.11/dist-packages (from pdfplumber) (11.2.1)\n",
            "Requirement already satisfied: pypdfium2>=4.18.0 in /usr/local/lib/python3.11/dist-packages (from pdfplumber) (4.30.1)\n",
            "Requirement already satisfied: charset-normalizer>=2.0.0 in /usr/local/lib/python3.11/dist-packages (from pdfminer.six==20250327->pdfplumber) (3.4.2)\n",
            "Requirement already satisfied: cryptography>=36.0.0 in /usr/local/lib/python3.11/dist-packages (from pdfminer.six==20250327->pdfplumber) (43.0.3)\n",
            "Requirement already satisfied: lxml>=3.1.0 in /usr/local/lib/python3.11/dist-packages (from python-docx) (5.4.0)\n",
            "Requirement already satisfied: typing-extensions>=4.9.0 in /usr/local/lib/python3.11/dist-packages (from python-docx) (4.13.2)\n",
            "Requirement already satisfied: spacy-legacy<3.1.0,>=3.0.11 in /usr/local/lib/python3.11/dist-packages (from spacy) (3.0.12)\n",
            "Requirement already satisfied: spacy-loggers<2.0.0,>=1.0.0 in /usr/local/lib/python3.11/dist-packages (from spacy) (1.0.5)\n",
            "Requirement already satisfied: murmurhash<1.1.0,>=0.28.0 in /usr/local/lib/python3.11/dist-packages (from spacy) (1.0.12)\n",
            "Requirement already satisfied: cymem<2.1.0,>=2.0.2 in /usr/local/lib/python3.11/dist-packages (from spacy) (2.0.11)\n",
            "Requirement already satisfied: preshed<3.1.0,>=3.0.2 in /usr/local/lib/python3.11/dist-packages (from spacy) (3.0.9)\n",
            "Requirement already satisfied: thinc<8.4.0,>=8.3.4 in /usr/local/lib/python3.11/dist-packages (from spacy) (8.3.6)\n",
            "Requirement already satisfied: wasabi<1.2.0,>=0.9.1 in /usr/local/lib/python3.11/dist-packages (from spacy) (1.1.3)\n",
            "Requirement already satisfied: srsly<3.0.0,>=2.4.3 in /usr/local/lib/python3.11/dist-packages (from spacy) (2.5.1)\n",
            "Requirement already satisfied: catalogue<2.1.0,>=2.0.6 in /usr/local/lib/python3.11/dist-packages (from spacy) (2.0.10)\n",
            "Requirement already satisfied: weasel<0.5.0,>=0.1.0 in /usr/local/lib/python3.11/dist-packages (from spacy) (0.4.1)\n",
            "Requirement already satisfied: typer<1.0.0,>=0.3.0 in /usr/local/lib/python3.11/dist-packages (from spacy) (0.15.3)\n",
            "Requirement already satisfied: tqdm<5.0.0,>=4.38.0 in /usr/local/lib/python3.11/dist-packages (from spacy) (4.67.1)\n",
            "Requirement already satisfied: numpy>=1.19.0 in /usr/local/lib/python3.11/dist-packages (from spacy) (2.0.2)\n",
            "Requirement already satisfied: requests<3.0.0,>=2.13.0 in /usr/local/lib/python3.11/dist-packages (from spacy) (2.32.3)\n",
            "Requirement already satisfied: pydantic!=1.8,!=1.8.1,<3.0.0,>=1.7.4 in /usr/local/lib/python3.11/dist-packages (from spacy) (2.11.4)\n",
            "Requirement already satisfied: jinja2 in /usr/local/lib/python3.11/dist-packages (from spacy) (3.1.6)\n",
            "Requirement already satisfied: setuptools in /usr/local/lib/python3.11/dist-packages (from spacy) (75.2.0)\n",
            "Requirement already satisfied: packaging>=20.0 in /usr/local/lib/python3.11/dist-packages (from spacy) (24.2)\n",
            "Requirement already satisfied: langcodes<4.0.0,>=3.2.0 in /usr/local/lib/python3.11/dist-packages (from spacy) (3.5.0)\n",
            "Requirement already satisfied: language-data>=1.2 in /usr/local/lib/python3.11/dist-packages (from langcodes<4.0.0,>=3.2.0->spacy) (1.3.0)\n",
            "Requirement already satisfied: annotated-types>=0.6.0 in /usr/local/lib/python3.11/dist-packages (from pydantic!=1.8,!=1.8.1,<3.0.0,>=1.7.4->spacy) (0.7.0)\n",
            "Requirement already satisfied: pydantic-core==2.33.2 in /usr/local/lib/python3.11/dist-packages (from pydantic!=1.8,!=1.8.1,<3.0.0,>=1.7.4->spacy) (2.33.2)\n",
            "Requirement already satisfied: typing-inspection>=0.4.0 in /usr/local/lib/python3.11/dist-packages (from pydantic!=1.8,!=1.8.1,<3.0.0,>=1.7.4->spacy) (0.4.0)\n",
            "Requirement already satisfied: idna<4,>=2.5 in /usr/local/lib/python3.11/dist-packages (from requests<3.0.0,>=2.13.0->spacy) (3.10)\n",
            "Requirement already satisfied: urllib3<3,>=1.21.1 in /usr/local/lib/python3.11/dist-packages (from requests<3.0.0,>=2.13.0->spacy) (2.4.0)\n",
            "Requirement already satisfied: certifi>=2017.4.17 in /usr/local/lib/python3.11/dist-packages (from requests<3.0.0,>=2.13.0->spacy) (2025.4.26)\n",
            "Requirement already satisfied: blis<1.4.0,>=1.3.0 in /usr/local/lib/python3.11/dist-packages (from thinc<8.4.0,>=8.3.4->spacy) (1.3.0)\n",
            "Requirement already satisfied: confection<1.0.0,>=0.0.1 in /usr/local/lib/python3.11/dist-packages (from thinc<8.4.0,>=8.3.4->spacy) (0.1.5)\n",
            "Requirement already satisfied: click>=8.0.0 in /usr/local/lib/python3.11/dist-packages (from typer<1.0.0,>=0.3.0->spacy) (8.1.8)\n",
            "Requirement already satisfied: shellingham>=1.3.0 in /usr/local/lib/python3.11/dist-packages (from typer<1.0.0,>=0.3.0->spacy) (1.5.4)\n",
            "Requirement already satisfied: rich>=10.11.0 in /usr/local/lib/python3.11/dist-packages (from typer<1.0.0,>=0.3.0->spacy) (13.9.4)\n",
            "Requirement already satisfied: cloudpathlib<1.0.0,>=0.7.0 in /usr/local/lib/python3.11/dist-packages (from weasel<0.5.0,>=0.1.0->spacy) (0.21.0)\n",
            "Requirement already satisfied: smart-open<8.0.0,>=5.2.1 in /usr/local/lib/python3.11/dist-packages (from weasel<0.5.0,>=0.1.0->spacy) (7.1.0)\n",
            "Requirement already satisfied: MarkupSafe>=2.0 in /usr/local/lib/python3.11/dist-packages (from jinja2->spacy) (3.0.2)\n",
            "Requirement already satisfied: cffi>=1.12 in /usr/local/lib/python3.11/dist-packages (from cryptography>=36.0.0->pdfminer.six==20250327->pdfplumber) (1.17.1)\n",
            "Requirement already satisfied: marisa-trie>=1.1.0 in /usr/local/lib/python3.11/dist-packages (from language-data>=1.2->langcodes<4.0.0,>=3.2.0->spacy) (1.2.1)\n",
            "Requirement already satisfied: markdown-it-py>=2.2.0 in /usr/local/lib/python3.11/dist-packages (from rich>=10.11.0->typer<1.0.0,>=0.3.0->spacy) (3.0.0)\n",
            "Requirement already satisfied: pygments<3.0.0,>=2.13.0 in /usr/local/lib/python3.11/dist-packages (from rich>=10.11.0->typer<1.0.0,>=0.3.0->spacy) (2.19.1)\n",
            "Requirement already satisfied: wrapt in /usr/local/lib/python3.11/dist-packages (from smart-open<8.0.0,>=5.2.1->weasel<0.5.0,>=0.1.0->spacy) (1.17.2)\n",
            "Requirement already satisfied: pycparser in /usr/local/lib/python3.11/dist-packages (from cffi>=1.12->cryptography>=36.0.0->pdfminer.six==20250327->pdfplumber) (2.22)\n",
            "Requirement already satisfied: mdurl~=0.1 in /usr/local/lib/python3.11/dist-packages (from markdown-it-py>=2.2.0->rich>=10.11.0->typer<1.0.0,>=0.3.0->spacy) (0.1.2)\n",
            "Collecting en-core-web-sm==3.8.0\n",
            "  Downloading https://github.com/explosion/spacy-models/releases/download/en_core_web_sm-3.8.0/en_core_web_sm-3.8.0-py3-none-any.whl (12.8 MB)\n",
            "\u001b[2K     \u001b[90m━━━━━━━━━━━━━━━━━━━━━━━━━━━━━━━━━━━━━━━━\u001b[0m \u001b[32m12.8/12.8 MB\u001b[0m \u001b[31m38.7 MB/s\u001b[0m eta \u001b[36m0:00:00\u001b[0m\n",
            "\u001b[?25h\u001b[38;5;2m✔ Download and installation successful\u001b[0m\n",
            "You can now load the package via spacy.load('en_core_web_sm')\n",
            "\u001b[38;5;3m⚠ Restart to reload dependencies\u001b[0m\n",
            "If you are in a Jupyter or Colab notebook, you may need to restart Python in\n",
            "order to load all the package's dependencies. You can do this by selecting the\n",
            "'Restart kernel' or 'Restart runtime' option.\n"
          ]
        }
      ],
      "source": [
        "from google.colab import files\n",
        "!pip install pdfplumber python-docx spacy\n",
        "!python -m spacy download en_core_web_sm\n",
        "import os\n",
        "import pdfplumber\n",
        "import docx\n",
        "import re\n",
        "import random\n",
        "import spacy\n",
        "import pandas as pd\n",
        "import numpy as np\n",
        "import matplotlib.pyplot as plt\n",
        "import seaborn as sns\n",
        "from sentence_transformers import SentenceTransformer\n",
        "from sklearn.metrics.pairwise import cosine_similarity"
      ]
    },
    {
      "cell_type": "code",
      "source": [
        "upload_flag = '/content/data/data'\n",
        "if not os.path.isdir(upload_flag):\n",
        "  !unzip Resume.zip\n",
        "  !unzip job_descriptions_cleaned.csv.zip\n",
        "else:\n",
        "  print('File already uploaded')"
      ],
      "metadata": {
        "colab": {
          "base_uri": "https://localhost:8080/"
        },
        "id": "jtOVSk2xaTRn",
        "outputId": "7baa2b0f-c5a9-4ee3-a608-0ba2935afe6d"
      },
      "execution_count": null,
      "outputs": [
        {
          "output_type": "stream",
          "name": "stdout",
          "text": [
            "File already uploaded\n"
          ]
        }
      ]
    },
    {
      "cell_type": "markdown",
      "source": [
        "The text from the resume pdfs need to be extracted and the extracted text needs to be further cleaned"
      ],
      "metadata": {
        "id": "cSQpjBb5O6Mw"
      }
    },
    {
      "cell_type": "code",
      "source": [
        "def pdf_to_text(path):\n",
        "    with pdfplumber.open(path) as pdf:\n",
        "        return ' '.join([page.extract_text() for page in pdf.pages if page.extract_text()])\n",
        "\n",
        "def docx_to_text(path):\n",
        "    doc = docx.Document(path)\n",
        "    return ' '.join([p.text for p in doc.paragraphs])\n",
        "\n",
        "def read_text_file(path):\n",
        "    with open(path, 'r', encoding='utf-8') as f:\n",
        "        return f.read()\n",
        "\n",
        "def clean_text(text):\n",
        "    text = re.sub(r'\\s+', ' ', text)\n",
        "    text = text.strip()\n",
        "    return text"
      ],
      "metadata": {
        "id": "kGEaO979nBpt",
        "collapsed": true
      },
      "execution_count": null,
      "outputs": []
    },
    {
      "cell_type": "markdown",
      "source": [
        "The weak verbs and passive voice will be detected through pos tagging and accordingly the function will return the parts of speech with appropriate suggestions."
      ],
      "metadata": {
        "id": "VaNqk8MhuDg4"
      }
    },
    {
      "cell_type": "code",
      "source": [
        "weak_verbs = []\n",
        "with open('Weak_Verbs.txt','r') as file:\n",
        "  for line in file:\n",
        "    line = line.strip().lower()\n",
        "    if line != '':\n",
        "      weak_verbs.append(line)\n",
        "\n",
        "def resume_analyser_feedback(resume_doc, weak_verbs=None):\n",
        "  passive_count = 0\n",
        "  used_verbs = []\n",
        "  weak_verbs_found = []\n",
        "  feedback = []\n",
        "  passive_verbs_regex = re.compile(r'\\b(was|were|is|are|been|being)\\s+\\w+ed\\b')\n",
        "  for sentence in resume_doc.sents:\n",
        "    if passive_verbs_regex.search(sentence.text.lower()):\n",
        "      passive_count = passive_count + 1\n",
        "    for token in sentence:\n",
        "      if token.pos_ == \"VERB\":\n",
        "        word = token.text.lower()\n",
        "        used_verbs.append(word)\n",
        "        if word in weak_verbs:\n",
        "          if word not in weak_verbs_found:\n",
        "            weak_verbs_found.append(word)\n",
        "\n",
        "  if weak_verbs_found:\n",
        "    feedback.append(\"Applicant should consider replacing weak verbs like \" + \", \".join(f\"'{w}'\" for w in weak_verbs_found) + \" with stronger alternatives\")\n",
        "  else:\n",
        "    feedback.append(\"All action words used by the applicant are good\")\n",
        "\n",
        "  return{\n",
        "      \"passive_count\": passive_count,\n",
        "      \"verbs\": used_verbs,\n",
        "      \"feedback\": feedback\n",
        "  }"
      ],
      "metadata": {
        "id": "dRFjuhHRPVXD"
      },
      "execution_count": null,
      "outputs": []
    },
    {
      "cell_type": "markdown",
      "source": [
        "The resume is scanned to identify the file type and accordingly the POS tags are generated"
      ],
      "metadata": {
        "id": "xgBolEH-jUd2"
      }
    },
    {
      "cell_type": "code",
      "source": [
        "nlp = spacy.load(\"en_core_web_sm\")\n",
        "resume_details = []\n",
        "folders = sorted(os.listdir(\"/content/data/data\"))[:24]\n",
        "extracted_text = ''\n",
        "base_path = \"/content/data/data\"\n",
        "resumes_in_folder = None\n",
        "\n",
        "for folder in folders:\n",
        "  folder_path = os.path.join(base_path,folder)\n",
        "  resumes_in_folder = [f for f in os.listdir(folder_path) if f.lower().endswith(('.pdf', '.docx', '.txt'))]\n",
        "  print (resumes_in_folder)\n",
        "  if not resumes_in_folder:\n",
        "      continue\n",
        "\n",
        "  selected_file = random.choice(resumes_in_folder)\n",
        "  full_file_path = os.path.join(folder_path, selected_file)\n",
        "  file_extension = os.path.splitext(selected_file)[1].lower().strip()\n",
        "\n",
        "  if file_extension == \".pdf\":\n",
        "    extracted_text = pdf_to_text(full_file_path)\n",
        "  elif file_extension == \".docx\":\n",
        "    extracted_text = docx_to_text(full_file_path)\n",
        "  elif file_extension == \".txt\":\n",
        "    extracted_text = read_text_file(full_file_path)\n",
        "  else:\n",
        "    print('Unsupported file type. Please upload PDF, DOCX, or TXT.')\n",
        "\n",
        "  cleaned_text = clean_text(extracted_text)\n",
        "  user_emails = re.findall(r'\\S+@\\S+', cleaned_text)\n",
        "  user_phones = re.findall(r'(\\+?\\d[\\d\\-\\s]{8,}\\d)', cleaned_text)\n",
        "  document = nlp(cleaned_text)\n",
        "  analysis = resume_analyser_feedback(document,weak_verbs)\n",
        "  passive_count = analysis['passive_count']\n",
        "  verbs = analysis['verbs']\n",
        "  feedback = analysis['feedback']\n",
        "  resume_details.append({\n",
        "      \"filename\": selected_file,\n",
        "      \"domain\": folder,\n",
        "      \"final_text\": cleaned_text,\n",
        "      \"pos_tags\": [(t.text, t.pos_) for t in document],\n",
        "      \"passive_count\": passive_count,\n",
        "      \"verbs\" : verbs,\n",
        "      \"feedback\": feedback\n",
        "    })"
      ],
      "metadata": {
        "id": "8v8NBZhxwMll",
        "colab": {
          "base_uri": "https://localhost:8080/"
        },
        "outputId": "baacc6d4-9edf-4538-cc06-ac027d6e6a0e"
      },
      "execution_count": null,
      "outputs": [
        {
          "output_type": "stream",
          "name": "stderr",
          "text": [
            "WARNING:pdfminer.pdfpage:CropBox missing from /Page, defaulting to MediaBox\n",
            "WARNING:pdfminer.pdfpage:CropBox missing from /Page, defaulting to MediaBox\n"
          ]
        },
        {
          "output_type": "stream",
          "name": "stdout",
          "text": [
            "['24703009.pdf', '33527446.pdf', '21853199.pdf', '14126433.pdf', '25862026.pdf', '21794875.pdf', '21338490.pdf', '20253563.pdf', '23246831.pdf', '23387174.pdf', '27980446.pdf', '25749150.pdf', '36024962.pdf', '78257294.pdf', '23139819.pdf', '13491889.pdf', '30304575.pdf', '80053367.pdf', '15821633.pdf', '49204385.pdf', '16237710.pdf', '37370455.pdf', '78403342.pdf', '25462793.pdf', '14496667.pdf', '53640713.pdf', '30361788.pdf', '29999135.pdf', '20082776.pdf', '10674770.pdf', '15289348.pdf', '62809577.pdf', '36425270.pdf', '25127518.pdf', '14055988.pdf', '38847011.pdf', '26065877.pdf', '34198885.pdf', '18365791.pdf', '21763056.pdf', '17556527.pdf', '23416654.pdf', '12202337.pdf', '28969385.pdf', '23438112.pdf', '87635012.pdf', '20393721.pdf', '30813919.pdf', '14224370.pdf', '98559931.pdf', '28614791.pdf', '28359817.pdf', '17407184.pdf', '14491649.pdf', '24799301.pdf', '20345168.pdf', '28298773.pdf', '39115899.pdf', '42487883.pdf', '26975573.pdf', '27637576.pdf', '19545827.pdf', '25867805.pdf', '27558837.pdf', '49997097.pdf', '12065211.pdf', '21031285.pdf', '13294301.pdf', '82649935.pdf', '25547145.pdf', '25935030.pdf', '20624984.pdf', '35554162.pdf', '34816637.pdf', '13072019.pdf', '18669563.pdf', '15906625.pdf', '12780508.pdf', '19446337.pdf', '24817041.pdf', '10554236.pdf', '50222417.pdf', '11759079.pdf', '17306905.pdf', '43685045.pdf', '24103168.pdf', '15592167.pdf', '12338274.pdf', '12442909.pdf', '15363277.pdf', '18132924.pdf', '11163645.pdf', '14470533.pdf', '25846894.pdf', '24294778.pdf', '29821051.pdf', '23636277.pdf', '25067742.pdf', '18569929.pdf', '63137898.pdf', '13701259.pdf', '27573855.pdf', '22465498.pdf', '31602598.pdf', '18635654.pdf', '13130984.pdf', '39674178.pdf', '29050809.pdf', '22925443.pdf', '75286906.pdf', '59403481.pdf', '12802330.pdf', '23513618.pdf', '29456173.pdf', '37997506.pdf', '28939941.pdf', '23734441.pdf', '14449423.pdf']\n"
          ]
        },
        {
          "output_type": "stream",
          "name": "stderr",
          "text": [
            "WARNING:pdfminer.pdfpage:CropBox missing from /Page, defaulting to MediaBox\n",
            "WARNING:pdfminer.pdfpage:CropBox missing from /Page, defaulting to MediaBox\n",
            "WARNING:pdfminer.pdfpage:CropBox missing from /Page, defaulting to MediaBox\n"
          ]
        },
        {
          "output_type": "stream",
          "name": "stdout",
          "text": [
            "['74126637.pdf', '14146106.pdf', '38059130.pdf', '78538268.pdf', '32965335.pdf', '40088790.pdf', '77439230.pdf', '35474904.pdf', '20272792.pdf', '97405769.pdf', '89508407.pdf', '26071861.pdf', '20138606.pdf', '17254634.pdf', '22042181.pdf', '17911230.pdf', '18997135.pdf', '24754689.pdf', '49486820.pdf', '38860712.pdf', '13967854.pdf', '93512385.pdf', '54067174.pdf', '23804341.pdf', '31040875.pdf', '11188218.pdf', '17021141.pdf', '53169257.pdf', '74191424.pdf', '73448369.pdf', '13593241.pdf', '36392131.pdf', '28974459.pdf', '34327438.pdf', '20324037.pdf', '46772262.pdf', '23577836.pdf', '72652441.pdf', '19926135.pdf', '11773767.pdf', '28635795.pdf', '47133747.pdf', '27182111.pdf', '28871170.pdf', '13342150.pdf', '11174187.pdf', '34970271.pdf', '91051945.pdf', '38698573.pdf', '20604208.pdf', '95970987.pdf', '13115648.pdf', '15958967.pdf', '13909762.pdf', '75435017.pdf', '37333719.pdf', '29415426.pdf', '10344379.pdf', '19518606.pdf', '14445309.pdf', '10818478.pdf', '14064815.pdf', '24410405.pdf', '26456474.pdf', '28111403.pdf', '42164460.pdf', '16332348.pdf', '20544228.pdf', '14708590.pdf', '35344611.pdf', '95714702.pdf', '15337481.pdf', '24763208.pdf', '12171093.pdf', '37640804.pdf', '75057933.pdf', '13072354.pdf', '24946537.pdf', '10659182.pdf', '17165107.pdf', '19108760.pdf', '19234823.pdf', '36694627.pdf', '23427369.pdf', '13809698.pdf', '18725071.pdf', '22259475.pdf', '12544735.pdf', '17847636.pdf', '29173771.pdf', '22391901.pdf', '29926588.pdf', '38291889.pdf', '19063156.pdf', '28206098.pdf', '24124250.pdf', '14176254.pdf', '75950464.pdf', '31242382.pdf', '30741799.pdf', '21614256.pdf', '18090899.pdf', '25873425.pdf', '15727656.pdf', '15313140.pdf', '24588864.pdf', '20765795.pdf', '11963737.pdf', '37348041.pdf', '90468982.pdf', '49475708.pdf', '20400279.pdf', '29177904.pdf', '37560528.pdf', '80503242.pdf', '10186968.pdf', '44115326.pdf', '24695561.pdf']\n"
          ]
        },
        {
          "output_type": "stream",
          "name": "stderr",
          "text": [
            "WARNING:pdfminer.pdfpage:CropBox missing from /Page, defaulting to MediaBox\n",
            "WARNING:pdfminer.pdfpage:CropBox missing from /Page, defaulting to MediaBox\n",
            "WARNING:pdfminer.pdfpage:CropBox missing from /Page, defaulting to MediaBox\n"
          ]
        },
        {
          "output_type": "stream",
          "name": "stdout",
          "text": [
            "['37292350.pdf', '26921245.pdf', '30437583.pdf', '24068423.pdf', '17640785.pdf', '36102323.pdf', '62994611.pdf', '24001783.pdf', '23631188.pdf', '16507693.pdf', '19532392.pdf', '29510501.pdf', '29142288.pdf', '21868149.pdf', '29746235.pdf', '29897742.pdf', '55712978.pdf', '16849128.pdf', '14140903.pdf', '21134923.pdf', '26835781.pdf', '11813872.pdf', '11197262.pdf', '20969119.pdf', '28733974.pdf', '11676151.pdf', '28165687.pdf', '81042872.pdf', '15546686.pdf', '34141299.pdf', '89740812.pdf', '16661264.pdf', '28247753.pdf', '12674256.pdf', '19851252.pdf', '18242317.pdf', '15053703.pdf', '27888251.pdf', '17312146.pdf', '84512719.pdf', '26070334.pdf', '69360287.pdf', '27689009.pdf', '69859102.pdf', '55500538.pdf', '24397882.pdf', '16172429.pdf', '24416961.pdf', '38216888.pdf', '40882926.pdf', '69336473.pdf', '37201447.pdf', '17499196.pdf', '18264694.pdf', '16653657.pdf', '54246169.pdf', '10953078.pdf', '56068028.pdf', '12341902.pdf', '20006992.pdf', '29968330.pdf', '79536879.pdf', '15603319.pdf']\n"
          ]
        },
        {
          "output_type": "stream",
          "name": "stderr",
          "text": [
            "WARNING:pdfminer.pdfpage:CropBox missing from /Page, defaulting to MediaBox\n",
            "WARNING:pdfminer.pdfpage:CropBox missing from /Page, defaulting to MediaBox\n",
            "WARNING:pdfminer.pdfpage:CropBox missing from /Page, defaulting to MediaBox\n",
            "WARNING:pdfminer.pdfpage:CropBox missing from /Page, defaulting to MediaBox\n"
          ]
        },
        {
          "output_type": "stream",
          "name": "stdout",
          "text": [
            "['50324968.pdf', '21807211.pdf', '24516163.pdf', '10738095.pdf', '71499299.pdf', '17659053.pdf', '35121930.pdf', '35603950.pdf', '27694040.pdf', '26829561.pdf', '12059610.pdf', '13418452.pdf', '11677077.pdf', '14698557.pdf', '31761591.pdf', '83566455.pdf', '27549075.pdf', '16915389.pdf', '26098594.pdf', '72807293.pdf', '15535408.pdf', '78273826.pdf', '10876132.pdf', '36094883.pdf', '29521434.pdf', '25543217.pdf', '14304010.pdf', '17714174.pdf', '16391949.pdf', '10562768.pdf', '58208591.pdf', '26586477.pdf', '43852883.pdf', '46514339.pdf', '21007083.pdf', '16605640.pdf', '20905088.pdf', '33665485.pdf', '21570485.pdf', '15154822.pdf', '29764492.pdf', '14413257.pdf', '19402977.pdf', '71767359.pdf', '19714635.pdf', '91026230.pdf', '13858219.pdf', '24989856.pdf', '27176039.pdf', '54308684.pdf', '41586420.pdf', '22852364.pdf', '31225895.pdf', '52252936.pdf', '26691587.pdf', '27091280.pdf', '11409460.pdf', '37750854.pdf', '16985289.pdf', '36136569.pdf', '28998957.pdf', '16723524.pdf', '12860543.pdf', '13764840.pdf', '24533931.pdf', '19070271.pdf', '10182582.pdf', '70750649.pdf', '27099856.pdf', '12668625.pdf', '35571205.pdf', '26046878.pdf', '91533580.pdf', '29028935.pdf', '14937492.pdf', '20504094.pdf', '23719943.pdf', '31362807.pdf', '15479281.pdf', '11232471.pdf', '12669075.pdf', '13807808.pdf', '56151548.pdf', '12122372.pdf', '23190306.pdf', '13386301.pdf', '56025640.pdf', '35985133.pdf', '99806115.pdf', '22249155.pdf', '16500168.pdf', '29640922.pdf', '18509268.pdf', '30344127.pdf', '25142074.pdf', '30430249.pdf', '15746146.pdf']\n"
          ]
        },
        {
          "output_type": "stream",
          "name": "stderr",
          "text": [
            "WARNING:pdfminer.pdfpage:CropBox missing from /Page, defaulting to MediaBox\n",
            "WARNING:pdfminer.pdfpage:CropBox missing from /Page, defaulting to MediaBox\n",
            "WARNING:pdfminer.pdfpage:CropBox missing from /Page, defaulting to MediaBox\n"
          ]
        },
        {
          "output_type": "stream",
          "name": "stdout",
          "text": [
            "['14150896.pdf', '17033567.pdf', '37472265.pdf', '16244633.pdf', '11555549.pdf', '20488267.pdf', '12777487.pdf', '65352424.pdf', '31114531.pdf', '12413512.pdf', '39470264.pdf', '14879257.pdf', '21060367.pdf', '32318506.pdf', '19724031.pdf', '22182279.pdf', '37220856.pdf', '28471099.pdf', '20698469.pdf', '43622023.pdf', '53227466.pdf', '16962067.pdf', '11995013.pdf', '18106533.pdf', '22848179.pdf', '36019469.pdf', '30594821.pdf', '26410763.pdf', '32794700.pdf', '25157655.pdf', '24349611.pdf', '20356750.pdf', '39064638.pdf', '17694454.pdf', '12334650.pdf', '18029935.pdf', '28325193.pdf', '36758947.pdf', '31273413.pdf', '23752500.pdf', '15265464.pdf', '99561379.pdf', '83338413.pdf', '29148871.pdf', '15306049.pdf', '28629430.pdf', '12386670.pdf', '83206166.pdf', '73497035.pdf', '24061629.pdf', '20149476.pdf', '39608848.pdf', '17857644.pdf', '27715131.pdf', '79432080.pdf', '78107631.pdf', '34304175.pdf', '22593054.pdf', '66226673.pdf', '34146825.pdf', '46055835.pdf', '41950126.pdf', '23917826.pdf', '18319061.pdf', '10830646.pdf', '11360471.pdf', '94230796.pdf', '73030450.pdf', '21867728.pdf', '36379931.pdf', '38115035.pdf', '54100393.pdf', '27096796.pdf', '25923361.pdf', '22800977.pdf', '26069113.pdf', '33344933.pdf', '65325317.pdf', '14248724.pdf', '27936502.pdf', '17325147.pdf', '27024099.pdf', '24983760.pdf', '16887936.pdf', '93576192.pdf', '37751611.pdf', '25926667.pdf', '99033098.pdf', '54180474.pdf', '19508520.pdf', '11187796.pdf', '28711616.pdf', '25561640.pdf', '13272204.pdf', '19671909.pdf', '23139437.pdf', '50432401.pdf', '21809601.pdf', '18885767.pdf', '27164756.pdf', '20148147.pdf', '18586076.pdf', '26079779.pdf']\n"
          ]
        },
        {
          "output_type": "stream",
          "name": "stderr",
          "text": [
            "WARNING:pdfminer.pdfpage:CropBox missing from /Page, defaulting to MediaBox\n",
            "WARNING:pdfminer.pdfpage:CropBox missing from /Page, defaulting to MediaBox\n"
          ]
        },
        {
          "output_type": "stream",
          "name": "stdout",
          "text": [
            "['17571262.pdf', '97449528.pdf', '28790806.pdf', '23009962.pdf', '25047127.pdf', '11152490.pdf', '17510973.pdf', '18932512.pdf', '22946204.pdf', '22732234.pdf', '22452756.pdf', '32109048.pdf', '78357954.pdf', '11257723.pdf', '99680385.pdf', '15100547.pdf', '32069695.pdf', '51508889.pdf', '63989974.pdf', '18448085.pdf', '23522150.pdf', '82140102.pdf', '26341645.pdf', '14508237.pdf', '15484011.pdf', '15790602.pdf', '11797122.pdf', '24703983.pdf', '84295343.pdf', '16332293.pdf', '47487091.pdf', '91515108.pdf', '24592627.pdf', '11887930.pdf', '14455622.pdf', '15210069.pdf']\n"
          ]
        },
        {
          "output_type": "stream",
          "name": "stderr",
          "text": [
            "WARNING:pdfminer.pdfpage:CropBox missing from /Page, defaulting to MediaBox\n",
            "WARNING:pdfminer.pdfpage:CropBox missing from /Page, defaulting to MediaBox\n",
            "WARNING:pdfminer.pdfpage:CropBox missing from /Page, defaulting to MediaBox\n"
          ]
        },
        {
          "output_type": "stream",
          "name": "stdout",
          "text": [
            "['58048626.pdf', '10567764.pdf', '17876954.pdf', '81588968.pdf', '17694572.pdf', '42427521.pdf', '82738323.pdf', '43720116.pdf', '19818707.pdf', '23761385.pdf', '65219288.pdf', '36252245.pdf', '26888302.pdf', '36727173.pdf', '31605080.pdf', '67631413.pdf', '38989376.pdf', '32720816.pdf', '14589288.pdf', '28020046.pdf', '19506295.pdf', '27902692.pdf', '10176815.pdf', '28186635.pdf', '42641525.pdf', '31536294.pdf', '68216398.pdf', '16279537.pdf', '90318913.pdf', '24589765.pdf', '29221006.pdf', '22442947.pdf', '29595906.pdf', '42546558.pdf', '17152392.pdf', '24773845.pdf', '33627938.pdf', '27502951.pdf', '25719936.pdf', '13234267.pdf', '11614114.pdf', '38355831.pdf', '70198580.pdf', '29534737.pdf', '61315605.pdf', '99416532.pdf', '29161565.pdf', '22168194.pdf', '92283635.pdf', '26819872.pdf', '49646155.pdf', '23464505.pdf', '11959428.pdf', '77626587.pdf', '12504278.pdf', '96457008.pdf', '17983430.pdf', '17655479.pdf', '23985183.pdf', '10189110.pdf', '17483843.pdf', '12904972.pdf', '15684810.pdf', '25718772.pdf', '12192507.pdf', '12043694.pdf', '24154692.pdf', '22650051.pdf', '12144825.pdf', '22232367.pdf', '17008356.pdf', '22990761.pdf', '38047274.pdf', '11804712.pdf', '16850314.pdf', '11169163.pdf', '24544244.pdf', '19284293.pdf', '17274759.pdf', '26279402.pdf', '14874322.pdf', '38154903.pdf', '38663892.pdf', '17686472.pdf', '94137171.pdf', '21190805.pdf', '11137306.pdf', '11333001.pdf', '27512470.pdf', '34419403.pdf', '13195436.pdf', '15618327.pdf', '21287405.pdf', '43408471.pdf', '54232810.pdf', '98389424.pdf', '16833515.pdf', '16449694.pdf', '25625173.pdf', '24668861.pdf', '10395944.pdf', '50775901.pdf', '15823995.pdf', '14790629.pdf', '11752500.pdf', '87826037.pdf', '30148777.pdf', '37473139.pdf', '29167286.pdf', '91431878.pdf', '69458502.pdf', '13405229.pdf', '20026169.pdf', '28383893.pdf', '12239749.pdf', '10945968.pdf', '18268860.pdf']\n"
          ]
        },
        {
          "output_type": "stream",
          "name": "stderr",
          "text": [
            "WARNING:pdfminer.pdfpage:CropBox missing from /Page, defaulting to MediaBox\n",
            "WARNING:pdfminer.pdfpage:CropBox missing from /Page, defaulting to MediaBox\n",
            "WARNING:pdfminer.pdfpage:CropBox missing from /Page, defaulting to MediaBox\n",
            "WARNING:pdfminer.pdfpage:CropBox missing from /Page, defaulting to MediaBox\n"
          ]
        },
        {
          "output_type": "stream",
          "name": "stdout",
          "text": [
            "['18457785.pdf', '89049979.pdf', '65864767.pdf', '32980197.pdf', '73157997.pdf', '29093426.pdf', '38897568.pdf', '35492909.pdf', '33135102.pdf', '18805506.pdf', '43375498.pdf', '18824120.pdf', '45167858.pdf', '28989677.pdf', '17823436.pdf', '21645690.pdf', '41651672.pdf', '19911786.pdf', '28419927.pdf', '19176318.pdf', '60182829.pdf', '96493528.pdf', '20992320.pdf', '18645964.pdf', '22615491.pdf', '19374660.pdf', '21796843.pdf', '36905896.pdf', '27884470.pdf', '17276884.pdf', '16407619.pdf', '18172739.pdf', '11266906.pdf', '68781345.pdf', '13393401.pdf', '30127072.pdf', '26673507.pdf', '35483925.pdf', '29839396.pdf', '30713796.pdf', '21856577.pdf', '34953092.pdf', '35564026.pdf', '15553584.pdf', '64589506.pdf', '15856762.pdf', '74552449.pdf', '16300459.pdf', '27120528.pdf', '28051330.pdf', '10329506.pdf', '31710562.pdf', '17213671.pdf', '12021752.pdf', '23323001.pdf', '21756639.pdf', '27606527.pdf', '17396388.pdf', '25080805.pdf', '28895997.pdf', '54421668.pdf', '98348532.pdf', '11672279.pdf', '19437318.pdf', '71422121.pdf', '11842348.pdf', '34783330.pdf', '33286293.pdf', '98965485.pdf', '70667011.pdf', '11637468.pdf', '11262933.pdf', '72876163.pdf', '10909673.pdf', '13173522.pdf', '25162378.pdf', '87867370.pdf', '26579709.pdf', '29406313.pdf', '14626780.pdf', '33872500.pdf', '36302399.pdf', '17131084.pdf', '34185495.pdf', '39142536.pdf', '69243180.pdf', '33370664.pdf', '19149865.pdf', '13982572.pdf', '24580361.pdf', '3547447.pdf', '18208580.pdf', '18278509.pdf', '25780596.pdf', '20850529.pdf', '25200253.pdf', '39569771.pdf', '11773925.pdf', '21297521.pdf', '25624652.pdf', '79041971.pdf', '17189156.pdf', '34758680.pdf', '17818707.pdf', '29552167.pdf', '77156708.pdf', '14391434.pdf', '60489316.pdf', '31025785.pdf', '11065180.pdf', '26987539.pdf', '39247950.pdf', '19920687.pdf', '18369400.pdf', '99124477.pdf']\n"
          ]
        },
        {
          "output_type": "stream",
          "name": "stderr",
          "text": [
            "WARNING:pdfminer.pdfpage:CropBox missing from /Page, defaulting to MediaBox\n",
            "WARNING:pdfminer.pdfpage:CropBox missing from /Page, defaulting to MediaBox\n",
            "WARNING:pdfminer.pdfpage:CropBox missing from /Page, defaulting to MediaBox\n",
            "WARNING:pdfminer.pdfpage:CropBox missing from /Page, defaulting to MediaBox\n"
          ]
        },
        {
          "output_type": "stream",
          "name": "stdout",
          "text": [
            "['13964744.pdf', '18589927.pdf', '69097572.pdf', '31064969.pdf', '23933031.pdf', '16492045.pdf', '26829350.pdf', '79261033.pdf', '63158213.pdf', '30709029.pdf', '15145575.pdf', '38707449.pdf', '95625660.pdf', '19362586.pdf', '11183737.pdf', '15573418.pdf', '57706851.pdf', '41152404.pdf', '24727739.pdf', '45077654.pdf', '89512321.pdf', '27710853.pdf']\n"
          ]
        },
        {
          "output_type": "stream",
          "name": "stderr",
          "text": [
            "WARNING:pdfminer.pdfpage:CropBox missing from /Page, defaulting to MediaBox\n",
            "WARNING:pdfminer.pdfpage:CropBox missing from /Page, defaulting to MediaBox\n",
            "WARNING:pdfminer.pdfpage:CropBox missing from /Page, defaulting to MediaBox\n",
            "WARNING:pdfminer.pdfpage:CropBox missing from /Page, defaulting to MediaBox\n"
          ]
        },
        {
          "output_type": "stream",
          "name": "stdout",
          "text": [
            "['22423839.pdf', '12230301.pdf', '34797369.pdf', '38007664.pdf', '98379112.pdf', '14825300.pdf', '14055971.pdf', '22765255.pdf', '27796199.pdf', '31273310.pdf', '14861855.pdf', '39237915.pdf', '11088337.pdf', '35673335.pdf', '30938994.pdf', '16694152.pdf', '12632728.pdf', '36574147.pdf', '27219200.pdf', '77576845.pdf', '76916835.pdf', '15423153.pdf', '27004930.pdf', '82118447.pdf', '25397102.pdf', '18311419.pdf', '12377803.pdf', '19557384.pdf', '31813535.pdf', '14990354.pdf', '15811992.pdf', '17421910.pdf', '61677751.pdf', '10501991.pdf', '27937592.pdf', '10289113.pdf', '20317319.pdf', '26896699.pdf', '90629382.pdf', '20427934.pdf', '13199813.pdf', '25813953.pdf', '29208172.pdf', '32042584.pdf', '14287992.pdf', '23568641.pdf', '34046031.pdf', '12546838.pdf', '12059198.pdf', '28916894.pdf', '14871762.pdf', '13888506.pdf', '24647386.pdf', '40792022.pdf', '18757174.pdf', '29908929.pdf', '10541358.pdf', '15233524.pdf', '12814706.pdf', '36805025.pdf', '13574264.pdf', '22025574.pdf', '32385553.pdf', '14070138.pdf', '91467795.pdf', '23396633.pdf', '10704573.pdf', '47067533.pdf', '27139412.pdf', '11551946.pdf', '29014805.pdf', '32531824.pdf', '14726000.pdf', '79759716.pdf', '19738730.pdf', '89197180.pdf', '20357858.pdf', '80275976.pdf', '17597372.pdf', '36170003.pdf', '14752209.pdf', '59696315.pdf', '18236085.pdf', '28337049.pdf', '33424600.pdf', '17730889.pdf', '27850777.pdf', '14241621.pdf', '27375577.pdf', '25370801.pdf', '18937778.pdf', '24964303.pdf', '27213082.pdf', '20633855.pdf', '13080868.pdf', '24412546.pdf', '17115815.pdf', '65708020.pdf', '95382114.pdf', '10228751.pdf', '37521676.pdf', '20748929.pdf', '20553895.pdf', '38688388.pdf', '16846478.pdf', '10235211.pdf', '26278597.pdf', '11289482.pdf', '26581830.pdf', '18293620.pdf', '17602815.pdf', '39875803.pdf', '31638814.pdf', '16519708.pdf', '81310245.pdf', '29825044.pdf', '37391947.pdf', '67501448.pdf', '17095812.pdf', '16091352.pdf']\n"
          ]
        },
        {
          "output_type": "stream",
          "name": "stderr",
          "text": [
            "WARNING:pdfminer.pdfpage:CropBox missing from /Page, defaulting to MediaBox\n",
            "WARNING:pdfminer.pdfpage:CropBox missing from /Page, defaulting to MediaBox\n",
            "WARNING:pdfminer.pdfpage:CropBox missing from /Page, defaulting to MediaBox\n",
            "WARNING:pdfminer.pdfpage:CropBox missing from /Page, defaulting to MediaBox\n"
          ]
        },
        {
          "output_type": "stream",
          "name": "stdout",
          "text": [
            "['21511817.pdf', '28176889.pdf', '29784524.pdf', '19007667.pdf', '13411858.pdf', '22349169.pdf', '30128072.pdf', '21904897.pdf', '22561438.pdf', '29449419.pdf', '30826569.pdf', '16924102.pdf', '11209758.pdf', '25953797.pdf', '18825446.pdf', '32605413.pdf', '24221960.pdf', '92985983.pdf', '14569498.pdf', '47603843.pdf', '26189601.pdf', '16804396.pdf', '16248476.pdf', '30337969.pdf', '23185829.pdf', '29072179.pdf', '10001727.pdf', '13212436.pdf', '94047639.pdf', '57262959.pdf', '47317494.pdf', '32518109.pdf', '91268638.pdf', '25452321.pdf', '12254068.pdf', '20321582.pdf', '18480859.pdf', '92122785.pdf', '24673903.pdf', '21334981.pdf', '29211359.pdf', '61322296.pdf', '62555739.pdf', '33964275.pdf', '24709432.pdf', '10653119.pdf', '86551046.pdf', '47729453.pdf', '28424982.pdf', '15261348.pdf', '20817322.pdf', '18036030.pdf', '23032276.pdf', '38309905.pdf', '21101152.pdf', '28230807.pdf', '53265899.pdf', '10588874.pdf', '16855929.pdf', '35157762.pdf', '20033302.pdf', '15354126.pdf', '16066857.pdf', '19951766.pdf', '11121498.pdf', '30311202.pdf', '28092317.pdf', '12155206.pdf', '11432686.pdf', '51554903.pdf', '25128608.pdf', '26718039.pdf', '11444536.pdf', '23807940.pdf', '21611637.pdf', '91072502.pdf', '65373280.pdf', '29990140.pdf', '28396528.pdf', '19285236.pdf', '13095891.pdf', '13264154.pdf', '36366044.pdf', '20691949.pdf', '35468363.pdf', '21622444.pdf', '34452806.pdf', '91591026.pdf', '27298953.pdf', '21869994.pdf', '27909372.pdf', '27831220.pdf', '23591247.pdf', '14663897.pdf', '25924968.pdf', '31547476.pdf', '27662298.pdf', '29772450.pdf', '10333299.pdf', '19268120.pdf', '74522938.pdf', '15180322.pdf', '12717345.pdf', '81373857.pdf', '29775391.pdf', '12420359.pdf', '16594812.pdf', '68338341.pdf', '34252537.pdf', '27820360.pdf', '23841877.pdf', '23568731.pdf', '19831366.pdf', '10276858.pdf', '23398733.pdf', '48580330.pdf', '10889157.pdf', '37231163.pdf']\n"
          ]
        },
        {
          "output_type": "stream",
          "name": "stderr",
          "text": [
            "WARNING:pdfminer.pdfpage:CropBox missing from /Page, defaulting to MediaBox\n",
            "WARNING:pdfminer.pdfpage:CropBox missing from /Page, defaulting to MediaBox\n"
          ]
        },
        {
          "output_type": "stream",
          "name": "stdout",
          "text": [
            "['78114950.pdf', '12212468.pdf', '61065616.pdf', '12695537.pdf', '25098739.pdf', '10820510.pdf', '39674782.pdf', '15564893.pdf', '29894080.pdf', '21567392.pdf', '27246366.pdf', '17570634.pdf', '12826414.pdf', '34544955.pdf', '22965804.pdf', '17252448.pdf', '25224998.pdf', '21363048.pdf', '39908485.pdf', '17342969.pdf', '28815362.pdf', '10281555.pdf', '16203589.pdf', '22546476.pdf', '22894544.pdf', '51638201.pdf', '28803888.pdf', '16353584.pdf', '69764348.pdf', '32025286.pdf', '11650031.pdf', '63083944.pdf', '19471144.pdf', '18472240.pdf', '35971546.pdf', '27835351.pdf', '56525735.pdf', '28756444.pdf', '24361598.pdf', '33023370.pdf', '24770846.pdf', '23818675.pdf', '16378091.pdf', '88859947.pdf', '39027764.pdf', '29193505.pdf', '27243670.pdf', '12654876.pdf', '20681037.pdf', '10041713.pdf', '27187994.pdf', '25656981.pdf', '25187733.pdf', '14849103.pdf', '90032884.pdf', '30397268.pdf', '26091595.pdf', '12666174.pdf', '10100240.pdf', '21782152.pdf', '24740005.pdf', '16924279.pdf', '14900898.pdf', '93436805.pdf', '39566718.pdf', '10149490.pdf', '14585273.pdf', '45475027.pdf', '12890045.pdf', '31850269.pdf', '99433371.pdf', '49685006.pdf', '20565849.pdf', '21586858.pdf', '32265203.pdf', '28949406.pdf', '44147689.pdf', '22718826.pdf', '18882984.pdf', '22983516.pdf', '29061628.pdf', '28942221.pdf', '29087505.pdf', '32799518.pdf', '24953126.pdf', '19364677.pdf', '19928941.pdf', '29483501.pdf', '22019500.pdf', '11393213.pdf', '32773331.pdf', '12693146.pdf', '48549972.pdf', '38946032.pdf', '29574501.pdf', '71576860.pdf', '10176013.pdf', '16626724.pdf', '94503308.pdf', '33141415.pdf', '36331163.pdf', '78298706.pdf', '26509539.pdf', '13907230.pdf', '12491898.pdf', '15721849.pdf', '29878348.pdf', '12839152.pdf', '27066370.pdf', '63145386.pdf', '10734870.pdf', '30311725.pdf']\n"
          ]
        },
        {
          "output_type": "stream",
          "name": "stderr",
          "text": [
            "WARNING:pdfminer.pdfpage:CropBox missing from /Page, defaulting to MediaBox\n",
            "WARNING:pdfminer.pdfpage:CropBox missing from /Page, defaulting to MediaBox\n",
            "WARNING:pdfminer.pdfpage:CropBox missing from /Page, defaulting to MediaBox\n",
            "WARNING:pdfminer.pdfpage:CropBox missing from /Page, defaulting to MediaBox\n"
          ]
        },
        {
          "output_type": "stream",
          "name": "stdout",
          "text": [
            "['92246939.pdf', '12526702.pdf', '38399177.pdf', '18227306.pdf', '11835339.pdf', '18856440.pdf', '22485475.pdf', '30863060.pdf', '15433732.pdf', '56792999.pdf', '32433431.pdf', '32637306.pdf', '38896303.pdf', '39308779.pdf', '39441617.pdf', '12374933.pdf', '31201660.pdf', '91116867.pdf', '65062795.pdf', '31016926.pdf', '18079050.pdf', '30083884.pdf', '22259768.pdf', '93349646.pdf', '21366189.pdf', '31395742.pdf', '31169070.pdf', '63670997.pdf', '67406885.pdf', '15602094.pdf', '22351830.pdf', '14517953.pdf', '15699744.pdf', '88907739.pdf', '29076405.pdf', '17025292.pdf', '25258040.pdf', '33919379.pdf', '20176584.pdf', '78016758.pdf', '22571461.pdf', '37818861.pdf', '10984392.pdf', '29196643.pdf', '43378989.pdf', '14346702.pdf', '79570655.pdf', '27096471.pdf', '26919036.pdf', '20574232.pdf', '23302948.pdf', '15535920.pdf', '12251115.pdf', '21568833.pdf', '12897903.pdf', '38457612.pdf', '26291616.pdf', '91189201.pdf', '13454871.pdf', '57364820.pdf', '26234972.pdf', '48533663.pdf', '13569152.pdf', '24828381.pdf', '38165833.pdf', '12955994.pdf', '95350373.pdf', '28243590.pdf', '29297393.pdf', '95792386.pdf', '27788376.pdf', '25213006.pdf', '25694422.pdf', '93459677.pdf', '19936735.pdf', '69181350.pdf', '57601040.pdf', '88691367.pdf', '29723311.pdf', '21156767.pdf', '26167298.pdf', '29647215.pdf', '13215696.pdf', '11415967.pdf', '29770086.pdf', '71888547.pdf', '31217840.pdf', '15083600.pdf', '19161572.pdf', '20314980.pdf', '11020140.pdf', '21512769.pdf', '28951817.pdf', '17983957.pdf', '80527194.pdf', '51432451.pdf', '51724595.pdf', '15281412.pdf', '34875813.pdf', '99714410.pdf', '22556198.pdf', '11333660.pdf', '16964217.pdf', '17307206.pdf', '15119529.pdf', '14593060.pdf', '95429627.pdf', '73075521.pdf', '13313917.pdf', '10332998.pdf', '43311839.pdf', '27726066.pdf', '49777184.pdf', '24643412.pdf', '13586069.pdf']\n"
          ]
        },
        {
          "output_type": "stream",
          "name": "stderr",
          "text": [
            "WARNING:pdfminer.pdfpage:CropBox missing from /Page, defaulting to MediaBox\n",
            "WARNING:pdfminer.pdfpage:CropBox missing from /Page, defaulting to MediaBox\n",
            "WARNING:pdfminer.pdfpage:CropBox missing from /Page, defaulting to MediaBox\n",
            "WARNING:pdfminer.pdfpage:CropBox missing from /Page, defaulting to MediaBox\n"
          ]
        },
        {
          "output_type": "stream",
          "name": "stdout",
          "text": [
            "['37664296.pdf', '26676567.pdf', '85101052.pdf', '11919526.pdf', '34349255.pdf', '25061645.pdf', '37263609.pdf', '28663949.pdf', '26496059.pdf', '12674307.pdf', '21283733.pdf', '37058472.pdf', '12547982.pdf', '19164410.pdf', '19195747.pdf', '51681660.pdf', '22496394.pdf', '29524570.pdf', '18460045.pdf', '34317538.pdf', '94417768.pdf', '38744475.pdf', '20986595.pdf', '20390397.pdf', '62312955.pdf', '23951429.pdf', '30965258.pdf', '26046064.pdf', '25949631.pdf', '20748926.pdf', '30968749.pdf', '67645662.pdf', '26942552.pdf', '15471999.pdf', '24285142.pdf', '18795567.pdf', '18979238.pdf', '36269672.pdf', '29147100.pdf', '68240723.pdf', '11155153.pdf', '26503829.pdf', '41506705.pdf', '22675694.pdf', '91153752.pdf', '29865476.pdf', '42384185.pdf', '34511655.pdf', '34051710.pdf', '28326441.pdf', '24583187.pdf', '32532982.pdf', '17555081.pdf', '93301686.pdf', '39776400.pdf', '10466583.pdf', '17199951.pdf', '12415691.pdf', '27529455.pdf', '34657584.pdf', '39252859.pdf', '26622051.pdf', '35990852.pdf', '39434376.pdf', '13774329.pdf', '24455357.pdf', '13518263.pdf', '67582956.pdf', '20932019.pdf', '13998435.pdf', '37695494.pdf', '15936656.pdf', '51018476.pdf', '78149576.pdf', '32954522.pdf', '81011612.pdf', '11807040.pdf', '13014900.pdf', '44145704.pdf', '76010167.pdf', '10748989.pdf', '14528265.pdf', '44185767.pdf', '25422388.pdf', '38565119.pdf', '14743911.pdf', '21916744.pdf', '21705160.pdf', '11958994.pdf', '26790545.pdf', '18198627.pdf', '22506245.pdf', '14014749.pdf', '15425154.pdf', '24655918.pdf', '22567495.pdf', '25023614.pdf', '13557622.pdf', '90066849.pdf', '11722421.pdf', '18835363.pdf', '54201930.pdf', '16288901.pdf', '26924514.pdf', '10751444.pdf', '27497542.pdf', '14724186.pdf']\n"
          ]
        },
        {
          "output_type": "stream",
          "name": "stderr",
          "text": [
            "WARNING:pdfminer.pdfpage:CropBox missing from /Page, defaulting to MediaBox\n",
            "WARNING:pdfminer.pdfpage:CropBox missing from /Page, defaulting to MediaBox\n",
            "WARNING:pdfminer.pdfpage:CropBox missing from /Page, defaulting to MediaBox\n",
            "WARNING:pdfminer.pdfpage:CropBox missing from /Page, defaulting to MediaBox\n"
          ]
        },
        {
          "output_type": "stream",
          "name": "stdout",
          "text": [
            "['34583750.pdf', '18905648.pdf', '14761906.pdf', '20330739.pdf', '17584743.pdf', '16276121.pdf', '17132168.pdf', '19053815.pdf', '27419236.pdf', '14945250.pdf', '29915354.pdf', '70196518.pdf', '59011090.pdf', '15484097.pdf', '91318828.pdf', '22706174.pdf', '30864828.pdf', '80679862.pdf', '25525152.pdf', '23085604.pdf', '19444529.pdf', '16509761.pdf', '23864858.pdf', '18442517.pdf', '29002596.pdf', '21125113.pdf', '33893326.pdf', '23810469.pdf', '11005406.pdf', '26160200.pdf', '16536141.pdf', '31929166.pdf', '20210676.pdf', '58915642.pdf', '94492380.pdf', '13328680.pdf', '25038571.pdf', '24953921.pdf', '56952849.pdf', '28109594.pdf', '31909493.pdf', '10005171.pdf', '18525641.pdf', '18488289.pdf', '14771530.pdf', '28679359.pdf', '30504149.pdf', '42156237.pdf', '50219114.pdf', '25706337.pdf', '31162167.pdf', '20628003.pdf', '34319869.pdf', '37739183.pdf', '18927233.pdf', '18900722.pdf', '27080812.pdf', '14556869.pdf', '40883703.pdf', '15353911.pdf', '20490741.pdf', '19861776.pdf', '14209965.pdf', '12085736.pdf', '15226699.pdf', '24658786.pdf', '26341987.pdf', '11677012.pdf', '24574164.pdf', '18354623.pdf', '40311088.pdf', '90685127.pdf', '13343786.pdf', '27921561.pdf', '18501746.pdf', '11270462.pdf', '27981289.pdf', '16893572.pdf', '24679149.pdf', '81508860.pdf', '10515955.pdf', '30999638.pdf', '22380187.pdf', '91539554.pdf', '13837784.pdf', '82929064.pdf', '62700506.pdf', '13503650.pdf', '17432318.pdf', '17562754.pdf', '25723793.pdf', '28609364.pdf', '14036515.pdf', '73282756.pdf', '33542483.pdf', '39166680.pdf']\n"
          ]
        },
        {
          "output_type": "stream",
          "name": "stderr",
          "text": [
            "WARNING:pdfminer.pdfpage:CropBox missing from /Page, defaulting to MediaBox\n",
            "WARNING:pdfminer.pdfpage:CropBox missing from /Page, defaulting to MediaBox\n",
            "WARNING:pdfminer.pdfpage:CropBox missing from /Page, defaulting to MediaBox\n",
            "WARNING:pdfminer.pdfpage:CropBox missing from /Page, defaulting to MediaBox\n"
          ]
        },
        {
          "output_type": "stream",
          "name": "stdout",
          "text": [
            "['32802563.pdf', '39835894.pdf', '11981094.pdf', '28831378.pdf', '17926546.pdf', '12472574.pdf', '10219099.pdf', '61579998.pdf', '21629057.pdf', '64468610.pdf', '17108676.pdf', '14206561.pdf', '74236636.pdf', '49127329.pdf', '27152464.pdf', '25608963.pdf', '10985403.pdf', '16803215.pdf', '12748557.pdf', '17488801.pdf', '28630325.pdf', '47276718.pdf', '51588273.pdf', '28505854.pdf', '38220146.pdf', '56691064.pdf', '17043822.pdf', '19612167.pdf', '31677347.pdf', '86209934.pdf', '35737840.pdf', '31684925.pdf', '35172961.pdf', '12011623.pdf', '38535335.pdf', '39855211.pdf', '17103000.pdf', '30542184.pdf', '60004873.pdf', '21038022.pdf', '11890896.pdf', '18753367.pdf', '31694970.pdf', '19397727.pdf', '90280583.pdf', '26456899.pdf', '12022566.pdf', '10712803.pdf', '33685075.pdf', '10030015.pdf', '23438227.pdf', '21847415.pdf', '25919149.pdf', '14049846.pdf', '22890839.pdf', '14554542.pdf', '28631840.pdf', '35651876.pdf', '25930778.pdf', '28762662.pdf', '43752620.pdf', '24322804.pdf', '77828437.pdf', '12518008.pdf', '12488356.pdf', '35389360.pdf', '27040860.pdf', '30288581.pdf', '28005884.pdf', '81125166.pdf', '13149176.pdf', '21807224.pdf', '23497307.pdf', '21298336.pdf', '32985311.pdf', '86828820.pdf', '47919212.pdf', '28923650.pdf', '15139979.pdf', '15941675.pdf', '55595908.pdf', '10624813.pdf', '19396040.pdf', '25425322.pdf', '28078163.pdf', '25797445.pdf', '19553067.pdf', '64755882.pdf', '26834746.pdf', '96029688.pdf', '16911115.pdf', '23234047.pdf', '44624796.pdf', '19124258.pdf', '55953734.pdf', '15601399.pdf', '54227873.pdf', '28320387.pdf', '82246962.pdf', '22605864.pdf', '50328713.pdf', '24647794.pdf', '37335325.pdf', '36517781.pdf', '82125182.pdf', '15858254.pdf', '20981299.pdf', '30097175.pdf', '13264796.pdf', '38314236.pdf', '47549345.pdf', '36149549.pdf', '20882041.pdf', '20566550.pdf', '32081266.pdf', '28628090.pdf', '27756469.pdf', '62071407.pdf']\n"
          ]
        },
        {
          "output_type": "stream",
          "name": "stderr",
          "text": [
            "WARNING:pdfminer.pdfpage:CropBox missing from /Page, defaulting to MediaBox\n",
            "WARNING:pdfminer.pdfpage:CropBox missing from /Page, defaulting to MediaBox\n",
            "WARNING:pdfminer.pdfpage:CropBox missing from /Page, defaulting to MediaBox\n"
          ]
        },
        {
          "output_type": "stream",
          "name": "stdout",
          "text": [
            "['59938965.pdf', '25497147.pdf', '93653247.pdf', '14413148.pdf', '29494962.pdf', '81677620.pdf', '20918464.pdf', '25678238.pdf', '59818742.pdf', '27330027.pdf', '22492537.pdf', '11490673.pdf', '57088974.pdf', '21912637.pdf', '27914096.pdf', '37931076.pdf', '76454959.pdf', '24854026.pdf', '91564103.pdf', '70541112.pdf', '19540089.pdf', '20836112.pdf', '29998869.pdf', '61634281.pdf', '39675895.pdf', '25330083.pdf', '34250007.pdf', '18024825.pdf', '20880935.pdf', '84373843.pdf', '59777056.pdf', '15717923.pdf', '38907798.pdf', '18975686.pdf', '24553863.pdf', '74512244.pdf', '15891494.pdf', '28758002.pdf', '15224503.pdf', '38441665.pdf', '19147603.pdf', '23354541.pdf', '28724469.pdf', '24411323.pdf', '98513424.pdf', '11441764.pdf', '28396458.pdf', '26013403.pdf', '86595128.pdf', '20705888.pdf', '28973180.pdf', '16449850.pdf', '69487178.pdf', '17775916.pdf', '27018361.pdf', '15011085.pdf', '28522529.pdf', '24670867.pdf', '22720697.pdf', '92524964.pdf', '18072085.pdf', '59450123.pdf', '95519832.pdf', '28623782.pdf', '84356308.pdf', '26750846.pdf', '66741193.pdf', '26767199.pdf', '24833063.pdf', '23573064.pdf', '19405513.pdf', '27409087.pdf', '11877150.pdf', '28398216.pdf', '14408510.pdf', '39295103.pdf', '20969845.pdf', '14181049.pdf', '10549585.pdf', '26530575.pdf', '15792052.pdf', '62850928.pdf', '26961846.pdf', '24611721.pdf', '77638654.pdf', '17880988.pdf', '78229715.pdf', '29612672.pdf', '31948488.pdf', '26231609.pdf', '12071138.pdf', '23955183.pdf', '19243556.pdf', '33685988.pdf', '38225199.pdf', '12858898.pdf', '86549455.pdf', '24967652.pdf', '14722634.pdf', '25101183.pdf', '18640927.pdf', '81217013.pdf', '58165257.pdf', '74849878.pdf', '14106638.pdf', '47410104.pdf', '27789372.pdf', '88038965.pdf', '22622351.pdf', '24530382.pdf', '17392859.pdf', '20275356.pdf', '72136463.pdf', '29648950.pdf', '20977412.pdf', '48285304.pdf', '18636651.pdf', '16426777.pdf']\n"
          ]
        },
        {
          "output_type": "stream",
          "name": "stderr",
          "text": [
            "WARNING:pdfminer.pdfpage:CropBox missing from /Page, defaulting to MediaBox\n",
            "WARNING:pdfminer.pdfpage:CropBox missing from /Page, defaulting to MediaBox\n",
            "WARNING:pdfminer.pdfpage:CropBox missing from /Page, defaulting to MediaBox\n"
          ]
        },
        {
          "output_type": "stream",
          "name": "stdout",
          "text": [
            "['95769832.pdf', '13037145.pdf', '27397245.pdf', '37087824.pdf', '29425788.pdf', '14107571.pdf', '24219583.pdf', '70603826.pdf', '25482567.pdf', '16038911.pdf', '32517106.pdf', '19938081.pdf', '31042953.pdf', '23063986.pdf', '67032711.pdf', '21122155.pdf', '14515954.pdf', '24905947.pdf', '13675377.pdf', '24444525.pdf', '24251588.pdf', '27903191.pdf', '25507648.pdf', '96761538.pdf', '17658471.pdf', '10268614.pdf', '76530505.pdf', '56286525.pdf', '80000092.pdf', '22488036.pdf', '12695799.pdf', '17915015.pdf', '10816645.pdf', '12092347.pdf', '11522068.pdf', '18767449.pdf', '75156649.pdf', '21238396.pdf', '17163375.pdf', '29165698.pdf', '69666645.pdf', '52684666.pdf', '17576030.pdf', '29319314.pdf', '10235429.pdf', '11130200.pdf', '25838512.pdf', '20279756.pdf', '27084878.pdf', '29306433.pdf', '55746506.pdf', '20255404.pdf', '38642923.pdf', '13367322.pdf', '26459032.pdf', '95085510.pdf', '10568350.pdf', '31556198.pdf', '10428916.pdf', '89858892.pdf', '90365216.pdf', '17431847.pdf', '22855060.pdf', '36139251.pdf', '11332602.pdf', '34792238.pdf', '77266989.pdf', '15932017.pdf', '32636041.pdf', '45656814.pdf', '17660419.pdf', '21178545.pdf', '38650096.pdf', '30757456.pdf', '24994145.pdf', '23004695.pdf', '27974588.pdf', '12019284.pdf', '23477199.pdf', '20565486.pdf', '63282405.pdf', '54259150.pdf', '12791244.pdf', '62870550.pdf', '39805617.pdf', '38108845.pdf', '16474898.pdf', '32651555.pdf', '28172023.pdf', '17166018.pdf', '10969918.pdf', '12923795.pdf', '19599699.pdf', '10333051.pdf', '34151183.pdf', '29792535.pdf', '24767027.pdf', '28669770.pdf', '22093368.pdf', '23011221.pdf', '57575888.pdf', '19975121.pdf', '29573698.pdf', '17286050.pdf', '16605352.pdf', '24708621.pdf', '30990885.pdf', '35164503.pdf', '12938389.pdf', '97123005.pdf', '59487170.pdf', '20457611.pdf', '19774173.pdf', '15293959.pdf', '35302620.pdf', '19037403.pdf', '28321954.pdf']\n"
          ]
        },
        {
          "output_type": "stream",
          "name": "stderr",
          "text": [
            "WARNING:pdfminer.pdfpage:CropBox missing from /Page, defaulting to MediaBox\n",
            "WARNING:pdfminer.pdfpage:CropBox missing from /Page, defaulting to MediaBox\n",
            "WARNING:pdfminer.pdfpage:CropBox missing from /Page, defaulting to MediaBox\n",
            "WARNING:pdfminer.pdfpage:CropBox missing from /Page, defaulting to MediaBox\n"
          ]
        },
        {
          "output_type": "stream",
          "name": "stdout",
          "text": [
            "['25451319.pdf', '17960690.pdf', '10076271.pdf', '10062724.pdf', '60624892.pdf', '36861863.pdf', '97169343.pdf', '37001381.pdf', '11653906.pdf', '21866029.pdf', '32219038.pdf', '32563518.pdf', '20835760.pdf', '12315079.pdf', '16132195.pdf', '15499825.pdf', '18949843.pdf', '24550866.pdf', '28423028.pdf', '28670024.pdf', '25834360.pdf', '80876647.pdf', '28745844.pdf', '12613221.pdf', '18784594.pdf', '18484846.pdf', '11704150.pdf', '17545780.pdf', '24548333.pdf', '14062078.pdf', '25328428.pdf', '19090468.pdf', '36625776.pdf', '12333703.pdf', '20211577.pdf', '35579812.pdf', '23138078.pdf', '23918545.pdf', '16702198.pdf', '20110597.pdf', '29992154.pdf', '27030979.pdf', '17963031.pdf', '13575312.pdf', '10480456.pdf', '69199666.pdf', '10466208.pdf', '98309114.pdf', '51777546.pdf', '10568183.pdf', '39082090.pdf', '56520872.pdf', '85421438.pdf', '24025053.pdf', '98300955.pdf', '26908066.pdf', '15636923.pdf', '45907524.pdf', '33750209.pdf', '34962725.pdf', '15680735.pdf', '33803142.pdf', '54934269.pdf', '22008817.pdf', '27917969.pdf', '58879993.pdf', '64471954.pdf', '23617240.pdf', '17624934.pdf', '23814777.pdf', '18714571.pdf', '23944036.pdf', '41910253.pdf', '35422305.pdf', '23110214.pdf', '87520378.pdf', '14667957.pdf', '91478356.pdf', '47996197.pdf', '13565152.pdf', '26125407.pdf', '17539842.pdf', '26585242.pdf', '26958533.pdf', '20748468.pdf', '95011061.pdf', '16356151.pdf', '36868767.pdf', '11605833.pdf', '75297735.pdf', '20172393.pdf', '46349752.pdf', '93988900.pdf', '20736486.pdf', '29134372.pdf', '37374340.pdf', '26695839.pdf', '34594746.pdf', '27090089.pdf', '12938200.pdf', '17864043.pdf', '11378657.pdf', '16121387.pdf', '75744306.pdf', '31395710.pdf', '25974844.pdf', '31926950.pdf', '49325370.pdf', '18129173.pdf', '13352113.pdf', '43994605.pdf', '85417107.pdf', '18365443.pdf', '96260484.pdf', '10251432.pdf']\n"
          ]
        },
        {
          "output_type": "stream",
          "name": "stderr",
          "text": [
            "WARNING:pdfminer.pdfpage:CropBox missing from /Page, defaulting to MediaBox\n",
            "WARNING:pdfminer.pdfpage:CropBox missing from /Page, defaulting to MediaBox\n",
            "WARNING:pdfminer.pdfpage:CropBox missing from /Page, defaulting to MediaBox\n",
            "WARNING:pdfminer.pdfpage:CropBox missing from /Page, defaulting to MediaBox\n"
          ]
        },
        {
          "output_type": "stream",
          "name": "stdout",
          "text": [
            "['17150707.pdf', '26780935.pdf', '19616406.pdf', '25824789.pdf', '32977530.pdf', '19336728.pdf', '13520837.pdf', '18297650.pdf', '10694288.pdf', '19717385.pdf', '25724495.pdf', '34554248.pdf', '28175164.pdf', '23510685.pdf', '27490876.pdf', '39081840.pdf', '41523474.pdf', '17855844.pdf', '86184722.pdf', '24508725.pdf', '20993320.pdf', '39650734.pdf', '13879043.pdf', '28828844.pdf', '34740556.pdf', '32896934.pdf', '26671167.pdf', '28419173.pdf', '20417897.pdf', '30862904.pdf', '23914451.pdf', '26289308.pdf', '25676643.pdf', '39970711.pdf', '91930382.pdf', '27847081.pdf', '87968870.pdf', '16861758.pdf', '18334783.pdf', '19867922.pdf', '27523575.pdf', '20806155.pdf', '17812897.pdf', '33176873.pdf', '59962788.pdf', '20925036.pdf', '28808263.pdf', '80162314.pdf', '26048718.pdf', '11763983.pdf', '57667857.pdf', '47470864.pdf', '22323967.pdf', '15041689.pdf', '12786012.pdf', '24184357.pdf', '26202430.pdf', '21265194.pdf', '51769822.pdf', '27496514.pdf', '29297973.pdf', '25150191.pdf', '14640322.pdf', '29149998.pdf', '32308556.pdf', '16852973.pdf', '17412079.pdf', '18084150.pdf', '14886205.pdf', '18422164.pdf', '21830565.pdf', '11847784.pdf', '73077810.pdf', '14225422.pdf', '44476983.pdf', '18316239.pdf', '11592605.pdf', '30163002.pdf', '19179079.pdf', '29091445.pdf', '27165830.pdf', '11480899.pdf', '13376919.pdf', '15375009.pdf', '52979663.pdf', '14256329.pdf', '93112113.pdf', '23408537.pdf', '18155310.pdf', '11698189.pdf', '18827609.pdf', '46258701.pdf', '30646367.pdf', '30563572.pdf', '18731098.pdf', '29564653.pdf', '15576950.pdf', '17422560.pdf', '24402267.pdf', '18557164.pdf', '16877897.pdf', '49937469.pdf', '10399912.pdf', '72231872.pdf', '93002334.pdf', '23155093.pdf', '28640735.pdf', '27018550.pdf', '32947778.pdf', '15575117.pdf']\n"
          ]
        },
        {
          "output_type": "stream",
          "name": "stderr",
          "text": [
            "WARNING:pdfminer.pdfpage:CropBox missing from /Page, defaulting to MediaBox\n",
            "WARNING:pdfminer.pdfpage:CropBox missing from /Page, defaulting to MediaBox\n",
            "WARNING:pdfminer.pdfpage:CropBox missing from /Page, defaulting to MediaBox\n",
            "WARNING:pdfminer.pdfpage:CropBox missing from /Page, defaulting to MediaBox\n"
          ]
        },
        {
          "output_type": "stream",
          "name": "stdout",
          "text": [
            "['27295996.pdf', '20001721.pdf', '79541391.pdf', '39718499.pdf', '24230851.pdf', '11584809.pdf', '51363762.pdf', '66832845.pdf', '20237244.pdf', '31111279.pdf', '15791766.pdf', '12334140.pdf', '29975124.pdf', '10089434.pdf', '16533554.pdf', '30223363.pdf', '16186411.pdf', '51639418.pdf', '16899268.pdf', '36856210.pdf', '19201175.pdf', '37242217.pdf', '41344156.pdf', '20408458.pdf', '18301617.pdf', '70089206.pdf', '23527321.pdf', '33381211.pdf', '27372171.pdf', '27770859.pdf', '20024870.pdf', '83816738.pdf', '52618188.pdf', '17681064.pdf', '40018190.pdf', '26768723.pdf', '35325329.pdf', '20824105.pdf', '18067556.pdf', '15297298.pdf', '48037995.pdf', '24913648.pdf', '18187364.pdf', '28126340.pdf', '27536013.pdf', '18752129.pdf', '10247517.pdf', '22776912.pdf', '21283365.pdf', '12635195.pdf', '27485716.pdf', '24083609.pdf', '28672970.pdf', '37764298.pdf', '25990239.pdf', '23864648.pdf', '13477922.pdf', '19850482.pdf', '64017585.pdf', '14789139.pdf', '10553553.pdf', '20879311.pdf', '13385306.pdf', '24889109.pdf', '17987433.pdf', '28897981.pdf', '29051656.pdf', '92069209.pdf', '19796840.pdf', '15118506.pdf', '24020470.pdf', '12763627.pdf', '11957080.pdf', '38753827.pdf', '46260230.pdf', '68460556.pdf', '20674668.pdf', '91121135.pdf', '25857360.pdf', '10641230.pdf', '25207620.pdf', '18176523.pdf', '12045067.pdf', '91697974.pdf', '39413067.pdf', '33241454.pdf', '26480367.pdf', '13405733.pdf', '31243710.pdf', '32959732.pdf', '24038620.pdf', '10840430.pdf', '90867631.pdf', '29075857.pdf', '21780877.pdf', '91635250.pdf', '27058381.pdf', '22450718.pdf', '13836471.pdf', '18159866.pdf', '28697203.pdf', '57002858.pdf', '89413122.pdf', '15802627.pdf', '11580408.pdf', '17641670.pdf', '81761658.pdf', '26746496.pdf', '23666211.pdf', '10265057.pdf', '10839851.pdf', '26801767.pdf', '52246737.pdf', '36434348.pdf', '25959103.pdf', '17688766.pdf', '15651486.pdf', '28035460.pdf', '25905275.pdf', '17111768.pdf']\n"
          ]
        },
        {
          "output_type": "stream",
          "name": "stderr",
          "text": [
            "WARNING:pdfminer.pdfpage:CropBox missing from /Page, defaulting to MediaBox\n",
            "WARNING:pdfminer.pdfpage:CropBox missing from /Page, defaulting to MediaBox\n",
            "WARNING:pdfminer.pdfpage:CropBox missing from /Page, defaulting to MediaBox\n",
            "WARNING:pdfminer.pdfpage:CropBox missing from /Page, defaulting to MediaBox\n"
          ]
        },
        {
          "output_type": "stream",
          "name": "stdout",
          "text": [
            "['19497420.pdf', '11160414.pdf', '22455205.pdf', '19503224.pdf', '10554045.pdf', '27257013.pdf', '20966771.pdf', '31220062.pdf', '91197243.pdf', '24677466.pdf', '14966165.pdf', '16620172.pdf', '14278888.pdf', '14667659.pdf', '13129275.pdf', '18133495.pdf', '22754014.pdf', '22560013.pdf', '21549195.pdf', '11624880.pdf', '24977396.pdf', '28531493.pdf', '12191094.pdf', '21669215.pdf', '23015611.pdf', '45900271.pdf', '16103783.pdf', '38056161.pdf', '25413261.pdf', '29329075.pdf', '14910300.pdf', '19558834.pdf', '11850315.pdf', '20470943.pdf', '21663616.pdf', '21321598.pdf', '98086373.pdf', '25070914.pdf', '16226743.pdf', '65237556.pdf', '24491862.pdf', '21386255.pdf', '12567516.pdf', '88651471.pdf', '14364597.pdf', '85973397.pdf', '11902276.pdf', '28831442.pdf', '19929506.pdf', '28862054.pdf', '13915715.pdf', '33072201.pdf', '15917885.pdf', '75329822.pdf', '24710433.pdf', '36671891.pdf', '26130673.pdf', '42332765.pdf', '61319162.pdf', '26330995.pdf', '27000192.pdf', '36107065.pdf', '23602130.pdf', '21478007.pdf', '12920612.pdf', '93828034.pdf', '37087371.pdf', '41590605.pdf', '23048999.pdf', '25001005.pdf', '23771896.pdf', '14009087.pdf', '30642458.pdf', '14128006.pdf', '22861181.pdf', '19072267.pdf', '21297828.pdf', '24559558.pdf', '28290448.pdf', '37375999.pdf', '18436190.pdf', '51415089.pdf', '23631724.pdf', '14536764.pdf', '85766635.pdf', '26173524.pdf', '49119887.pdf', '31392754.pdf', '13727873.pdf', '26127853.pdf', '23673025.pdf', '59346975.pdf', '10926726.pdf', '31211074.pdf', '24590489.pdf', '45462344.pdf', '31292364.pdf', '28975482.pdf', '10873344.pdf', '37913536.pdf', '11635137.pdf', '11842274.pdf', '53701275.pdf', '10070224.pdf', '12237267.pdf', '14611516.pdf', '23143731.pdf', '29525715.pdf', '34712719.pdf', '32441790.pdf', '12545844.pdf']\n"
          ]
        },
        {
          "output_type": "stream",
          "name": "stderr",
          "text": [
            "WARNING:pdfminer.pdfpage:CropBox missing from /Page, defaulting to MediaBox\n",
            "WARNING:pdfminer.pdfpage:CropBox missing from /Page, defaulting to MediaBox\n",
            "WARNING:pdfminer.pdfpage:CropBox missing from /Page, defaulting to MediaBox\n"
          ]
        },
        {
          "output_type": "stream",
          "name": "stdout",
          "text": [
            "['55097118.pdf', '98509238.pdf', '20141807.pdf', '16280971.pdf', '14358578.pdf', '33236701.pdf', '20423658.pdf', '26530696.pdf', '19156751.pdf', '28198029.pdf', '18328743.pdf', '28139742.pdf', '90682785.pdf', '26425074.pdf', '29211919.pdf', '23032182.pdf', '42304307.pdf', '29805310.pdf', '27233183.pdf', '37360517.pdf', '87118391.pdf', '13812481.pdf', '29332616.pdf', '23760084.pdf', '30529547.pdf', '20819838.pdf', '37540732.pdf', '32140087.pdf', '26994282.pdf', '13178604.pdf', '39581020.pdf', '15581242.pdf', '51349448.pdf', '31454430.pdf', '28377361.pdf', '10898339.pdf', '23782450.pdf', '21595057.pdf', '37792474.pdf', '59422148.pdf', '22047665.pdf', '30608780.pdf', '18171955.pdf', '12820557.pdf', '85918100.pdf', '17378327.pdf', '29928796.pdf', '29399491.pdf', '36970996.pdf', '36904300.pdf', '33578873.pdf', '18368613.pdf', '19473948.pdf', '34131484.pdf', '26932091.pdf', '14381464.pdf', '28867567.pdf', '15620421.pdf', '55477468.pdf', '54101961.pdf', '70528646.pdf', '12696104.pdf', '16121015.pdf', '10603337.pdf', '15973307.pdf', '27624540.pdf', '31199035.pdf', '18885231.pdf', '58428843.pdf', '29134721.pdf', '14267489.pdf', '15765660.pdf', '12082377.pdf', '55104715.pdf', '37735467.pdf', '34303500.pdf', '15273850.pdf', '29184740.pdf', '40987524.pdf', '24610685.pdf', '25839123.pdf', '18062906.pdf', '36621169.pdf', '71772815.pdf', '20552814.pdf', '79376680.pdf', '19582792.pdf', '19147947.pdf', '15918496.pdf', '17410700.pdf', '36074301.pdf', '10464113.pdf', '19147494.pdf', '69155584.pdf', '16511249.pdf', '13637605.pdf', '92200491.pdf', '65456466.pdf', '38087844.pdf', '16223371.pdf', '27607632.pdf', '12351749.pdf', '22319662.pdf', '25810233.pdf', '23929500.pdf', '98108571.pdf', '23296286.pdf', '13348915.pdf', '17509935.pdf', '17781039.pdf', '10138632.pdf', '30083943.pdf', '29815762.pdf', '25315791.pdf', '10724818.pdf', '17704246.pdf']\n"
          ]
        },
        {
          "output_type": "stream",
          "name": "stderr",
          "text": [
            "WARNING:pdfminer.pdfpage:CropBox missing from /Page, defaulting to MediaBox\n",
            "WARNING:pdfminer.pdfpage:CropBox missing from /Page, defaulting to MediaBox\n",
            "WARNING:pdfminer.pdfpage:CropBox missing from /Page, defaulting to MediaBox\n"
          ]
        },
        {
          "output_type": "stream",
          "name": "stdout",
          "text": [
            "['34689720.pdf', '27524018.pdf', '17481570.pdf', '29639533.pdf', '19464810.pdf', '16820422.pdf', '20399718.pdf', '13330982.pdf', '36569713.pdf', '29797594.pdf', '90363254.pdf', '12467531.pdf', '18001081.pdf', '22408666.pdf', '86322251.pdf', '21611212.pdf', '31552617.pdf', '16210888.pdf', '63391085.pdf', '20626794.pdf', '23628651.pdf', '10527994.pdf', '20230207.pdf', '37660306.pdf', '49285644.pdf', '21531811.pdf', '11616482.pdf', '66906212.pdf', '76196367.pdf', '19302310.pdf', '36206485.pdf', '19786924.pdf', '25729119.pdf', '66683238.pdf', '34465087.pdf', '15850434.pdf', '11943065.pdf', '86597425.pdf', '23398843.pdf', '29486525.pdf', '13296856.pdf', '10504237.pdf', '28772892.pdf', '51209395.pdf', '27798860.pdf', '27531694.pdf', '13087952.pdf', '79663360.pdf', '29267293.pdf', '58708773.pdf', '24240349.pdf', '22807104.pdf', '24791126.pdf', '28642819.pdf', '10909720.pdf', '29930479.pdf', '14958913.pdf', '13855004.pdf', '99244405.pdf', '12587973.pdf', '21773106.pdf', '96547039.pdf', '58665241.pdf', '28933005.pdf', '69532425.pdf', '23939133.pdf', '16270906.pdf', '33704389.pdf', '45286020.pdf', '22884757.pdf', '19918523.pdf', '27126818.pdf', '53129155.pdf', '20478831.pdf', '35421497.pdf', '34745915.pdf', '37402097.pdf', '28013287.pdf', '69005326.pdf', '48547319.pdf', '15899269.pdf', '28086303.pdf', '22968380.pdf', '62184086.pdf', '22510753.pdf', '28063132.pdf', '32067700.pdf', '74816727.pdf', '70892619.pdf', '21550454.pdf', '22056333.pdf', '11336022.pdf', '22632070.pdf', '38750659.pdf', '13583538.pdf', '17311685.pdf', '25588694.pdf', '34033933.pdf', '58105060.pdf', '19556300.pdf', '22551979.pdf', '45987048.pdf']\n"
          ]
        },
        {
          "output_type": "stream",
          "name": "stderr",
          "text": [
            "WARNING:pdfminer.pdfpage:CropBox missing from /Page, defaulting to MediaBox\n",
            "WARNING:pdfminer.pdfpage:CropBox missing from /Page, defaulting to MediaBox\n"
          ]
        }
      ]
    },
    {
      "cell_type": "markdown",
      "source": [
        "The details and parts of the speech from the resume is then added to a dataframe"
      ],
      "metadata": {
        "id": "tb0UzEAQjgeK"
      }
    },
    {
      "cell_type": "code",
      "source": [
        "resume_df = pd.DataFrame(resume_details)\n",
        "print('The resumes selected are: ')\n",
        "print(resume_df[['filename','domain']])"
      ],
      "metadata": {
        "colab": {
          "base_uri": "https://localhost:8080/"
        },
        "id": "aAdY_2Bf_tWy",
        "outputId": "49b42983-763a-4a17-eb4e-2725996c50be"
      },
      "execution_count": null,
      "outputs": [
        {
          "output_type": "stream",
          "name": "stdout",
          "text": [
            "The resumes selected are: \n",
            "        filename                  domain\n",
            "0   26975573.pdf              ACCOUNTANT\n",
            "1   93512385.pdf                ADVOCATE\n",
            "2   10953078.pdf             AGRICULTURE\n",
            "3   29028935.pdf                 APPAREL\n",
            "4   11360471.pdf                    ARTS\n",
            "5   16332293.pdf              AUTOMOBILE\n",
            "6   23761385.pdf                AVIATION\n",
            "7   17823436.pdf                 BANKING\n",
            "8   89512321.pdf                     BPO\n",
            "9   14241621.pdf    BUSINESS-DEVELOPMENT\n",
            "10  16594812.pdf                    CHEF\n",
            "11  39566718.pdf            CONSTRUCTION\n",
            "12  28951817.pdf              CONSULTANT\n",
            "13  20748926.pdf                DESIGNER\n",
            "14  50219114.pdf           DIGITAL-MEDIA\n",
            "15  21807224.pdf             ENGINEERING\n",
            "16  74849878.pdf                 FINANCE\n",
            "17  11130200.pdf                 FITNESS\n",
            "18  91478356.pdf              HEALTHCARE\n",
            "19  21830565.pdf                      HR\n",
            "20  27536013.pdf  INFORMATION-TECHNOLOGY\n",
            "21  14536764.pdf        PUBLIC-RELATIONS\n",
            "22  37540732.pdf                   SALES\n",
            "23  45987048.pdf                 TEACHER\n"
          ]
        }
      ]
    },
    {
      "cell_type": "code",
      "source": [
        "jobs_df = pd.read_csv('/content/job_descriptions_cleaned.csv')"
      ],
      "metadata": {
        "id": "6hv0JFZVSydC"
      },
      "execution_count": null,
      "outputs": []
    },
    {
      "cell_type": "markdown",
      "source": [
        "The code extracts specific columns from the job dataset and accordingly creates a combined string which is then compared with the resume using the sentence BERT"
      ],
      "metadata": {
        "id": "qzCRt3vCjpOI"
      }
    },
    {
      "cell_type": "code",
      "source": [
        "chosen_job = jobs_df.sample(1).iloc[0]\n",
        "jobs_description = chosen_job['Job Description']\n",
        "important_job_text = \" \".join([str(chosen_job['Job Title']), str(chosen_job['Role']), str(chosen_job['skills'])])\n",
        "print(important_job_text)"
      ],
      "metadata": {
        "colab": {
          "base_uri": "https://localhost:8080/"
        },
        "id": "BBOyQoY2TEgL",
        "outputId": "51d8fad1-26bf-4ad6-f329-c03e9f31bdea"
      },
      "execution_count": null,
      "outputs": [
        {
          "output_type": "stream",
          "name": "stdout",
          "text": [
            "Account Executive Sales Account Executive Sales strategies and tactics Account management Relationship building Sales forecasting Industry and product knowledge\n"
          ]
        }
      ]
    },
    {
      "cell_type": "code",
      "source": [
        "model = SentenceTransformer(\"all-MiniLM-L6-v2\")\n",
        "resume_encoding = model.encode(resume_df['final_text'].tolist(), show_progress_bar=True)\n",
        "job_text_encoding = model.encode(important_job_text)"
      ],
      "metadata": {
        "colab": {
          "base_uri": "https://localhost:8080/",
          "height": 49,
          "referenced_widgets": [
            "15812d63a49d4adc9471ec5a7597676f",
            "e571f93c32a44d0998d62ffa28064d49",
            "9ef0dbe516c54ce8984838c9fa6a7507",
            "6cea4e0cb8614309a9f61bb9b2fd86e9",
            "0d700a1f7453412db63ce1db4c66cdd4",
            "b2c84fc124ef483982ef8479478444a0",
            "42d1716be4ed46c99e0f73871ce69fb9",
            "bbe914c33dc5442988c113f829ba7ed8",
            "582a0dcbbb87467e8da06bfe4c8ebf11",
            "6c15306fde9c437cb194d494f94aee58",
            "177d04a1874b48bbb57d2d9a6b6364ac"
          ]
        },
        "id": "a0PQmDaT1-ao",
        "outputId": "d5f7765c-8fc7-4c22-e438-343d7d565558"
      },
      "execution_count": null,
      "outputs": [
        {
          "output_type": "display_data",
          "data": {
            "text/plain": [
              "Batches:   0%|          | 0/1 [00:00<?, ?it/s]"
            ],
            "application/vnd.jupyter.widget-view+json": {
              "version_major": 2,
              "version_minor": 0,
              "model_id": "15812d63a49d4adc9471ec5a7597676f"
            }
          },
          "metadata": {}
        }
      ]
    },
    {
      "cell_type": "markdown",
      "source": [
        "The cosine similarity is generated for all the selected resumes and based on the value, the resumes and their attributes are sorted"
      ],
      "metadata": {
        "id": "bTOPcuA1j616"
      }
    },
    {
      "cell_type": "code",
      "source": [
        "similarities = cosine_similarity([job_text_encoding],resume_encoding)[0]\n",
        "top_ranked_resumes = similarities.argsort()[-24:][::-1]"
      ],
      "metadata": {
        "id": "PprS_k6822ar"
      },
      "execution_count": null,
      "outputs": []
    },
    {
      "cell_type": "code",
      "source": [
        "print(similarities)"
      ],
      "metadata": {
        "colab": {
          "base_uri": "https://localhost:8080/"
        },
        "id": "UZZf0uZJ3eZT",
        "outputId": "bb33bb04-db78-498b-9db0-c44093aacbdf"
      },
      "execution_count": null,
      "outputs": [
        {
          "output_type": "stream",
          "name": "stdout",
          "text": [
            "[0.4170667  0.24838296 0.09156464 0.24625789 0.21702406 0.26837206\n",
            " 0.35818487 0.34787115 0.24031113 0.42603254 0.20590445 0.17161816\n",
            " 0.21266314 0.20526612 0.32790482 0.2674933  0.31744647 0.0061088\n",
            " 0.05476109 0.21097718 0.33560407 0.44052568 0.57938546 0.2220629 ]\n"
          ]
        }
      ]
    },
    {
      "cell_type": "code",
      "source": [
        "top_resume_final = []\n",
        "\n",
        "for i in top_ranked_resumes:\n",
        "  row = resume_df.iloc[i]\n",
        "  top_resume_final.append({\n",
        "      \"file\": row['filename'],\n",
        "      \"domain\": row['domain'],\n",
        "      \"scores\": similarities[i],\n",
        "      \"passive_statements\": row['passive_count'],\n",
        "      \"verbs\": row['verbs'],\n",
        "      \"feedback\": row['feedback']\n",
        "  })"
      ],
      "metadata": {
        "id": "fYlN--nL4Fuz"
      },
      "execution_count": null,
      "outputs": []
    },
    {
      "cell_type": "code",
      "source": [
        "final_result_data = pd.DataFrame(top_resume_final)\n",
        "print(final_result_data)"
      ],
      "metadata": {
        "colab": {
          "base_uri": "https://localhost:8080/"
        },
        "id": "iDIdvwGb5lUE",
        "outputId": "3ea19bc9-7d38-4a74-e1d0-ff93a04a86ad"
      },
      "execution_count": null,
      "outputs": [
        {
          "output_type": "stream",
          "name": "stdout",
          "text": [
            "            file                  domain    scores  passive_statements  \\\n",
            "0   37540732.pdf                   SALES  0.579385                   0   \n",
            "1   14536764.pdf        PUBLIC-RELATIONS  0.440526                   0   \n",
            "2   14241621.pdf    BUSINESS-DEVELOPMENT  0.426033                   2   \n",
            "3   26975573.pdf              ACCOUNTANT  0.417067                   0   \n",
            "4   23761385.pdf                AVIATION  0.358185                   1   \n",
            "5   17823436.pdf                 BANKING  0.347871                   2   \n",
            "6   27536013.pdf  INFORMATION-TECHNOLOGY  0.335604                   0   \n",
            "7   50219114.pdf           DIGITAL-MEDIA  0.327905                   0   \n",
            "8   74849878.pdf                 FINANCE  0.317446                   0   \n",
            "9   16332293.pdf              AUTOMOBILE  0.268372                   1   \n",
            "10  21807224.pdf             ENGINEERING  0.267493                   0   \n",
            "11  93512385.pdf                ADVOCATE  0.248383                   0   \n",
            "12  29028935.pdf                 APPAREL  0.246258                   0   \n",
            "13  89512321.pdf                     BPO  0.240311                   3   \n",
            "14  45987048.pdf                 TEACHER  0.222063                   0   \n",
            "15  11360471.pdf                    ARTS  0.217024                   1   \n",
            "16  28951817.pdf              CONSULTANT  0.212663                   1   \n",
            "17  21830565.pdf                      HR  0.210977                   0   \n",
            "18  16594812.pdf                    CHEF  0.205904                   1   \n",
            "19  20748926.pdf                DESIGNER  0.205266                   1   \n",
            "20  39566718.pdf            CONSTRUCTION  0.171618                   5   \n",
            "21  10953078.pdf             AGRICULTURE  0.091565                   0   \n",
            "22  91478356.pdf              HEALTHCARE  0.054761                   0   \n",
            "23  11130200.pdf                 FITNESS  0.006109                   0   \n",
            "\n",
            "                                                verbs  \\\n",
            "0   [focused, oriented, existing, established, tak...   \n",
            "1   [experienced, campaigns, start, driven, called...   \n",
            "2   [oriented, written, enhance, driven, establish...   \n",
            "3   [managing, solving, recognized, formatted, pre...   \n",
            "4   [leading, seeking, leverage, secure, establish...   \n",
            "5   [servers, completed, declare, furnished, sdlc,...   \n",
            "6   [accomplished, identifying, turning, producing...   \n",
            "7   [oriented, creating, align, support, managing,...   \n",
            "8   [finance, offers, learn, manage, meeting, solv...   \n",
            "9   [providing, includes, specialize, managing, me...   \n",
            "10  [develop, mentor, improving, develop, standard...   \n",
            "11  [built, formatted, developed, learn, practice,...   \n",
            "12  [tasking, paced, accomplished, managing, coord...   \n",
            "13  [applications, organised, outsourcing, spread,...   \n",
            "14  [focused, providing, routing, learn, contribut...   \n",
            "15  [tooling, stays, operates, maneuvers, looking,...   \n",
            "16  [allocated, planned, organized, skills, making...   \n",
            "17  [training, incorporate, achieve, established, ...   \n",
            "18  [obtain, offers, gain, given, grow, progress, ...   \n",
            "19  [oriented, planning, solver, crafted, promoted...   \n",
            "20  [working, â€¢preparing, â€¢making, delegating,...   \n",
            "21  [follow, based, centered, based, identify, sha...   \n",
            "22  [offering, facing, addressing, maximizing, ser...   \n",
            "23  [ranging, demonstrated, work, working, moving,...   \n",
            "\n",
            "                                             feedback  \n",
            "0   [All action words used by the applicant are good]  \n",
            "1   [Applicant should consider replacing weak verb...  \n",
            "2   [Applicant should consider replacing weak verb...  \n",
            "3   [Applicant should consider replacing weak verb...  \n",
            "4   [All action words used by the applicant are good]  \n",
            "5   [Applicant should consider replacing weak verb...  \n",
            "6   [Applicant should consider replacing weak verb...  \n",
            "7   [Applicant should consider replacing weak verb...  \n",
            "8   [All action words used by the applicant are good]  \n",
            "9   [Applicant should consider replacing weak verb...  \n",
            "10  [Applicant should consider replacing weak verb...  \n",
            "11  [Applicant should consider replacing weak verb...  \n",
            "12  [Applicant should consider replacing weak verb...  \n",
            "13  [Applicant should consider replacing weak verb...  \n",
            "14  [Applicant should consider replacing weak verb...  \n",
            "15  [Applicant should consider replacing weak verb...  \n",
            "16  [Applicant should consider replacing weak verb...  \n",
            "17  [Applicant should consider replacing weak verb...  \n",
            "18  [All action words used by the applicant are good]  \n",
            "19  [All action words used by the applicant are good]  \n",
            "20  [Applicant should consider replacing weak verb...  \n",
            "21  [Applicant should consider replacing weak verb...  \n",
            "22  [Applicant should consider replacing weak verb...  \n",
            "23  [All action words used by the applicant are good]  \n"
          ]
        }
      ]
    },
    {
      "cell_type": "markdown",
      "source": [
        "A graph has been created to plot the cosine similarity values for all the resumes which belong to different domains"
      ],
      "metadata": {
        "id": "jfxXs3LnkVXP"
      }
    },
    {
      "cell_type": "code",
      "source": [
        "plt.figure(figsize=(10,4))\n",
        "sns.barplot(x='scores',y='domain', data=final_result_data)\n",
        "plt.title(\"Resume Matching Score\")\n",
        "plt.xlabel(\"Score\")\n",
        "plt.tight_layout()\n",
        "plt.show()"
      ],
      "metadata": {
        "colab": {
          "base_uri": "https://localhost:8080/",
          "height": 407
        },
        "id": "ISzt1_eb6yyT",
        "outputId": "1351df8e-eb80-4def-c0ad-5598f6cc2c50"
      },
      "execution_count": null,
      "outputs": [
        {
          "output_type": "display_data",
          "data": {
            "text/plain": [
              "<Figure size 1000x400 with 1 Axes>"
            ],
            "image/png": "[encoded data removed]"
          },
          "metadata": {}
        }
      ]
    },
    {
      "cell_type": "code",
      "source": [
        "print(\"POS tags from the top resume: \")\n",
        "print(resume_df.iloc[top_ranked_resumes[0]]['pos_tags'][:50])"
      ],
      "metadata": {
        "colab": {
          "base_uri": "https://localhost:8080/"
        },
        "id": "L7nyXRgnk1FR",
        "outputId": "6025bc2d-cad9-4f23-c254-f605f53d3136"
      },
      "execution_count": null,
      "outputs": [
        {
          "output_type": "stream",
          "name": "stdout",
          "text": [
            "POS tags from the top resume: \n",
            "[('SALES', 'PROPN'), ('Executive', 'PROPN'), ('Summary', 'PROPN'), ('Twenty', 'NUM'), ('years', 'NOUN'), ('of', 'ADP'), ('experience', 'NOUN'), ('in', 'ADP'), ('all', 'DET'), ('aspects', 'NOUN'), ('of', 'ADP'), ('sales', 'NOUN'), ('/', 'SYM'), ('marketing', 'NOUN'), ('management', 'NOUN'), ('Focused', 'VERB'), (',', 'PUNCT'), ('goal', 'NOUN'), ('and', 'CCONJ'), ('profit', 'NOUN'), ('-', 'PUNCT'), ('oriented', 'VERB'), ('.', 'PUNCT'), ('Proven', 'ADJ'), ('track', 'NOUN'), ('record', 'NOUN'), ('of', 'ADP'), ('sustainable', 'ADJ'), ('growth', 'NOUN'), ('in', 'ADP'), ('existing', 'VERB'), ('market', 'NOUN'), (',', 'PUNCT'), ('and', 'CCONJ'), ('development', 'NOUN'), ('of', 'ADP'), ('business', 'NOUN'), ('in', 'ADP'), ('new', 'ADJ'), ('markets', 'NOUN'), ('.', 'PUNCT'), ('Effective', 'ADJ'), ('organizational', 'ADJ'), (',', 'PUNCT'), ('communication', 'NOUN'), (',', 'PUNCT'), ('technical', 'ADJ'), (',', 'PUNCT'), ('leadership', 'NOUN'), (',', 'PUNCT')]\n"
          ]
        }
      ]
    },
    {
      "cell_type": "code",
      "source": [
        "print(\"Feedback for the top resume: \")\n",
        "print(resume_df.iloc[top_ranked_resumes[0]]['feedback'])"
      ],
      "metadata": {
        "colab": {
          "base_uri": "https://localhost:8080/"
        },
        "id": "dHUkwgWtlXO1",
        "outputId": "18bb3593-064a-4f1e-b470-4c52e92aa5ba"
      },
      "execution_count": null,
      "outputs": [
        {
          "output_type": "stream",
          "name": "stdout",
          "text": [
            "Feedback for the top resume: \n",
            "['All action words used by the applicant are good']\n"
          ]
        }
      ]
    },
    {
      "cell_type": "markdown",
      "source": [
        "The rankings and properties of the resumes are added to a csv file"
      ],
      "metadata": {
        "id": "VpWl2F-NkiTi"
      }
    },
    {
      "cell_type": "code",
      "source": [
        "final_result_data.to_csv(\"Resume_Rankings_Output.csv\", index=False)\n",
        "files.download('Resume_Rankings_Output.csv')"
      ],
      "metadata": {
        "colab": {
          "base_uri": "https://localhost:8080/",
          "height": 17
        },
        "id": "xjnS4dcamUky",
        "outputId": "eaced001-25b3-4cd2-9f1a-26c35af6912c"
      },
      "execution_count": null,
      "outputs": [
        {
          "output_type": "display_data",
          "data": {
            "text/plain": [
              "<IPython.core.display.Javascript object>"
            ],
            "application/javascript": [
              "\n",
              "    async function download(id, filename, size) {\n",
              "      if (!google.colab.kernel.accessAllowed) {\n",
              "        return;\n",
              "      }\n",
              "      const div = document.createElement('div');\n",
              "      const label = document.createElement('label');\n",
              "      label.textContent = `Downloading \"${filename}\": `;\n",
              "      div.appendChild(label);\n",
              "      const progress = document.createElement('progress');\n",
              "      progress.max = size;\n",
              "      div.appendChild(progress);\n",
              "      document.body.appendChild(div);\n",
              "\n",
              "      const buffers = [];\n",
              "      let downloaded = 0;\n",
              "\n",
              "      const channel = await google.colab.kernel.comms.open(id);\n",
              "      // Send a message to notify the kernel that we're ready.\n",
              "      channel.send({})\n",
              "\n",
              "      for await (const message of channel.messages) {\n",
              "        // Send a message to notify the kernel that we're ready.\n",
              "        channel.send({})\n",
              "        if (message.buffers) {\n",
              "          for (const buffer of message.buffers) {\n",
              "            buffers.push(buffer);\n",
              "            downloaded += buffer.byteLength;\n",
              "            progress.value = downloaded;\n",
              "          }\n",
              "        }\n",
              "      }\n",
              "      const blob = new Blob(buffers, {type: 'application/binary'});\n",
              "      const a = document.createElement('a');\n",
              "      a.href = window.URL.createObjectURL(blob);\n",
              "      a.download = filename;\n",
              "      div.appendChild(a);\n",
              "      a.click();\n",
              "      div.remove();\n",
              "    }\n",
              "  "
            ]
          },
          "metadata": {}
        },
        {
          "output_type": "display_data",
          "data": {
            "text/plain": [
              "<IPython.core.display.Javascript object>"
            ],
            "application/javascript": [
              "download(\"download_572749ce-cda6-4388-9bff-ec4062183772\", \"Resume_Rankings_Output.csv\", 28444)"
            ]
          },
          "metadata": {}
        }
      ]
    }
  ]
}